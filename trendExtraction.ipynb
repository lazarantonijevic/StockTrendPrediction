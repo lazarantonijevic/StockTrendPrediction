{
 "cells": [
  {
   "cell_type": "markdown",
   "source": [
    "To the historical price data we adding extra columns that show trend values (1 for positive trend, 0 for no trend, and -1 for negative trend) calculated in 2 different ways.\n",
    "We are also adding a column for trend values 10 days in the future which will be the column that we are predicting."
   ],
   "metadata": {
    "collapsed": false
   }
  },
  {
   "cell_type": "code",
   "execution_count": 2,
   "id": "57371393",
   "metadata": {},
   "outputs": [],
   "source": [
    "import pandas as pd"
   ]
  },
  {
   "cell_type": "code",
   "execution_count": 3,
   "id": "2ccef871",
   "metadata": {},
   "outputs": [],
   "source": [
    "#df=pd.read_excel('data\\LUGR Data OHLC Daily Gaming and Entertainment ENG 2013-2022.xlsx',sheet_name='SP500',skiprows=[0])\n",
    "df = pd.read_csv('data/prices_separated/ntdoy.csv')"
   ]
  },
  {
   "cell_type": "code",
   "execution_count": 4,
   "id": "03744f29",
   "metadata": {},
   "outputs": [
    {
     "data": {
      "text/plain": "   Date (GMT)    Open    High       Low    Last\n0  2019-01-02  100.24  104.52   99.0400  104.01\n1  2019-01-03  102.40  103.00   99.1100   99.15\n2  2019-01-04  101.13  103.76   99.6601  101.70\n3  2019-01-07  101.50  104.94   99.2900  104.41\n4  2019-01-08  106.21  109.45  105.2500  107.92",
      "text/html": "<div>\n<style scoped>\n    .dataframe tbody tr th:only-of-type {\n        vertical-align: middle;\n    }\n\n    .dataframe tbody tr th {\n        vertical-align: top;\n    }\n\n    .dataframe thead th {\n        text-align: right;\n    }\n</style>\n<table border=\"1\" class=\"dataframe\">\n  <thead>\n    <tr style=\"text-align: right;\">\n      <th></th>\n      <th>Date (GMT)</th>\n      <th>Open</th>\n      <th>High</th>\n      <th>Low</th>\n      <th>Last</th>\n    </tr>\n  </thead>\n  <tbody>\n    <tr>\n      <th>0</th>\n      <td>2019-01-02</td>\n      <td>100.24</td>\n      <td>104.52</td>\n      <td>99.0400</td>\n      <td>104.01</td>\n    </tr>\n    <tr>\n      <th>1</th>\n      <td>2019-01-03</td>\n      <td>102.40</td>\n      <td>103.00</td>\n      <td>99.1100</td>\n      <td>99.15</td>\n    </tr>\n    <tr>\n      <th>2</th>\n      <td>2019-01-04</td>\n      <td>101.13</td>\n      <td>103.76</td>\n      <td>99.6601</td>\n      <td>101.70</td>\n    </tr>\n    <tr>\n      <th>3</th>\n      <td>2019-01-07</td>\n      <td>101.50</td>\n      <td>104.94</td>\n      <td>99.2900</td>\n      <td>104.41</td>\n    </tr>\n    <tr>\n      <th>4</th>\n      <td>2019-01-08</td>\n      <td>106.21</td>\n      <td>109.45</td>\n      <td>105.2500</td>\n      <td>107.92</td>\n    </tr>\n  </tbody>\n</table>\n</div>"
     },
     "execution_count": 4,
     "metadata": {},
     "output_type": "execute_result"
    }
   ],
   "source": [
    "df.head()"
   ]
  },
  {
   "cell_type": "code",
   "execution_count": 5,
   "id": "c5d503de",
   "metadata": {},
   "outputs": [],
   "source": [
    "def ema(df,n):\n",
    "    alpha=2/(n+1)\n",
    "    df['ema']=df.Last.ewm(alpha=alpha,adjust=False).mean()\n"
   ]
  },
  {
   "cell_type": "code",
   "execution_count": 6,
   "id": "8544004f",
   "metadata": {},
   "outputs": [],
   "source": [
    "ema(df,10)"
   ]
  },
  {
   "cell_type": "code",
   "execution_count": 7,
   "id": "b13c6489",
   "metadata": {},
   "outputs": [
    {
     "data": {
      "text/plain": "   Date (GMT)    Open     High       Low    Last         ema\n0  2019-01-02  100.24  104.520   99.0400  104.01  104.010000\n1  2019-01-03  102.40  103.000   99.1100   99.15  103.126364\n2  2019-01-04  101.13  103.760   99.6601  101.70  102.867025\n3  2019-01-07  101.50  104.940   99.2900  104.41  103.147566\n4  2019-01-08  106.21  109.450  105.2500  107.92  104.015281\n5  2019-01-09  108.70  109.580  107.1900  107.46  104.641594\n6  2019-01-10  106.63  110.430  106.2000  110.00  105.615849\n7  2019-01-11  109.53  111.685  107.8000  109.03  106.236604\n8  2019-01-14  108.29  108.500  104.3700  104.98  106.008131\n9  2019-01-15  105.20  106.995  102.5300  106.49  106.095743",
      "text/html": "<div>\n<style scoped>\n    .dataframe tbody tr th:only-of-type {\n        vertical-align: middle;\n    }\n\n    .dataframe tbody tr th {\n        vertical-align: top;\n    }\n\n    .dataframe thead th {\n        text-align: right;\n    }\n</style>\n<table border=\"1\" class=\"dataframe\">\n  <thead>\n    <tr style=\"text-align: right;\">\n      <th></th>\n      <th>Date (GMT)</th>\n      <th>Open</th>\n      <th>High</th>\n      <th>Low</th>\n      <th>Last</th>\n      <th>ema</th>\n    </tr>\n  </thead>\n  <tbody>\n    <tr>\n      <th>0</th>\n      <td>2019-01-02</td>\n      <td>100.24</td>\n      <td>104.520</td>\n      <td>99.0400</td>\n      <td>104.01</td>\n      <td>104.010000</td>\n    </tr>\n    <tr>\n      <th>1</th>\n      <td>2019-01-03</td>\n      <td>102.40</td>\n      <td>103.000</td>\n      <td>99.1100</td>\n      <td>99.15</td>\n      <td>103.126364</td>\n    </tr>\n    <tr>\n      <th>2</th>\n      <td>2019-01-04</td>\n      <td>101.13</td>\n      <td>103.760</td>\n      <td>99.6601</td>\n      <td>101.70</td>\n      <td>102.867025</td>\n    </tr>\n    <tr>\n      <th>3</th>\n      <td>2019-01-07</td>\n      <td>101.50</td>\n      <td>104.940</td>\n      <td>99.2900</td>\n      <td>104.41</td>\n      <td>103.147566</td>\n    </tr>\n    <tr>\n      <th>4</th>\n      <td>2019-01-08</td>\n      <td>106.21</td>\n      <td>109.450</td>\n      <td>105.2500</td>\n      <td>107.92</td>\n      <td>104.015281</td>\n    </tr>\n    <tr>\n      <th>5</th>\n      <td>2019-01-09</td>\n      <td>108.70</td>\n      <td>109.580</td>\n      <td>107.1900</td>\n      <td>107.46</td>\n      <td>104.641594</td>\n    </tr>\n    <tr>\n      <th>6</th>\n      <td>2019-01-10</td>\n      <td>106.63</td>\n      <td>110.430</td>\n      <td>106.2000</td>\n      <td>110.00</td>\n      <td>105.615849</td>\n    </tr>\n    <tr>\n      <th>7</th>\n      <td>2019-01-11</td>\n      <td>109.53</td>\n      <td>111.685</td>\n      <td>107.8000</td>\n      <td>109.03</td>\n      <td>106.236604</td>\n    </tr>\n    <tr>\n      <th>8</th>\n      <td>2019-01-14</td>\n      <td>108.29</td>\n      <td>108.500</td>\n      <td>104.3700</td>\n      <td>104.98</td>\n      <td>106.008131</td>\n    </tr>\n    <tr>\n      <th>9</th>\n      <td>2019-01-15</td>\n      <td>105.20</td>\n      <td>106.995</td>\n      <td>102.5300</td>\n      <td>106.49</td>\n      <td>106.095743</td>\n    </tr>\n  </tbody>\n</table>\n</div>"
     },
     "execution_count": 7,
     "metadata": {},
     "output_type": "execute_result"
    }
   ],
   "source": [
    "df.head(10)"
   ]
  },
  {
   "cell_type": "code",
   "execution_count": 8,
   "outputs": [],
   "source": [
    "def emaTrend(df):\n",
    "    df['emaTrend'] = 0\n",
    "    for i in range(1, len(df. index)):\n",
    "        if df['ema'][i] > df['ema'][i - 1]:\n",
    "            df.loc[i,'emaTrend'] = 1\n",
    "        elif df['ema'][i] < df['ema'][i - 1]:\n",
    "            df.loc[i, 'emaTrend'] = -1"
   ],
   "metadata": {
    "collapsed": false
   }
  },
  {
   "cell_type": "code",
   "execution_count": 9,
   "outputs": [
    {
     "data": {
      "text/plain": "   Date (GMT)    Open     High       Low    Last         ema  emaTrend\n0  2019-01-02  100.24  104.520   99.0400  104.01  104.010000         0\n1  2019-01-03  102.40  103.000   99.1100   99.15  103.126364        -1\n2  2019-01-04  101.13  103.760   99.6601  101.70  102.867025        -1\n3  2019-01-07  101.50  104.940   99.2900  104.41  103.147566         1\n4  2019-01-08  106.21  109.450  105.2500  107.92  104.015281         1\n5  2019-01-09  108.70  109.580  107.1900  107.46  104.641594         1\n6  2019-01-10  106.63  110.430  106.2000  110.00  105.615849         1\n7  2019-01-11  109.53  111.685  107.8000  109.03  106.236604         1\n8  2019-01-14  108.29  108.500  104.3700  104.98  106.008131        -1\n9  2019-01-15  105.20  106.995  102.5300  106.49  106.095743         1",
      "text/html": "<div>\n<style scoped>\n    .dataframe tbody tr th:only-of-type {\n        vertical-align: middle;\n    }\n\n    .dataframe tbody tr th {\n        vertical-align: top;\n    }\n\n    .dataframe thead th {\n        text-align: right;\n    }\n</style>\n<table border=\"1\" class=\"dataframe\">\n  <thead>\n    <tr style=\"text-align: right;\">\n      <th></th>\n      <th>Date (GMT)</th>\n      <th>Open</th>\n      <th>High</th>\n      <th>Low</th>\n      <th>Last</th>\n      <th>ema</th>\n      <th>emaTrend</th>\n    </tr>\n  </thead>\n  <tbody>\n    <tr>\n      <th>0</th>\n      <td>2019-01-02</td>\n      <td>100.24</td>\n      <td>104.520</td>\n      <td>99.0400</td>\n      <td>104.01</td>\n      <td>104.010000</td>\n      <td>0</td>\n    </tr>\n    <tr>\n      <th>1</th>\n      <td>2019-01-03</td>\n      <td>102.40</td>\n      <td>103.000</td>\n      <td>99.1100</td>\n      <td>99.15</td>\n      <td>103.126364</td>\n      <td>-1</td>\n    </tr>\n    <tr>\n      <th>2</th>\n      <td>2019-01-04</td>\n      <td>101.13</td>\n      <td>103.760</td>\n      <td>99.6601</td>\n      <td>101.70</td>\n      <td>102.867025</td>\n      <td>-1</td>\n    </tr>\n    <tr>\n      <th>3</th>\n      <td>2019-01-07</td>\n      <td>101.50</td>\n      <td>104.940</td>\n      <td>99.2900</td>\n      <td>104.41</td>\n      <td>103.147566</td>\n      <td>1</td>\n    </tr>\n    <tr>\n      <th>4</th>\n      <td>2019-01-08</td>\n      <td>106.21</td>\n      <td>109.450</td>\n      <td>105.2500</td>\n      <td>107.92</td>\n      <td>104.015281</td>\n      <td>1</td>\n    </tr>\n    <tr>\n      <th>5</th>\n      <td>2019-01-09</td>\n      <td>108.70</td>\n      <td>109.580</td>\n      <td>107.1900</td>\n      <td>107.46</td>\n      <td>104.641594</td>\n      <td>1</td>\n    </tr>\n    <tr>\n      <th>6</th>\n      <td>2019-01-10</td>\n      <td>106.63</td>\n      <td>110.430</td>\n      <td>106.2000</td>\n      <td>110.00</td>\n      <td>105.615849</td>\n      <td>1</td>\n    </tr>\n    <tr>\n      <th>7</th>\n      <td>2019-01-11</td>\n      <td>109.53</td>\n      <td>111.685</td>\n      <td>107.8000</td>\n      <td>109.03</td>\n      <td>106.236604</td>\n      <td>1</td>\n    </tr>\n    <tr>\n      <th>8</th>\n      <td>2019-01-14</td>\n      <td>108.29</td>\n      <td>108.500</td>\n      <td>104.3700</td>\n      <td>104.98</td>\n      <td>106.008131</td>\n      <td>-1</td>\n    </tr>\n    <tr>\n      <th>9</th>\n      <td>2019-01-15</td>\n      <td>105.20</td>\n      <td>106.995</td>\n      <td>102.5300</td>\n      <td>106.49</td>\n      <td>106.095743</td>\n      <td>1</td>\n    </tr>\n  </tbody>\n</table>\n</div>"
     },
     "execution_count": 9,
     "metadata": {},
     "output_type": "execute_result"
    }
   ],
   "source": [
    "emaTrend(df)\n",
    "df.head(10)"
   ],
   "metadata": {
    "collapsed": false
   }
  },
  {
   "cell_type": "code",
   "execution_count": 10,
   "outputs": [
    {
     "data": {
      "text/plain": "   Date (GMT)    Open    High       Low    Last         ema  emaTrend\n0  2019-01-02  100.24  104.52   99.0400  104.01  104.010000         0\n1  2019-01-03  102.40  103.00   99.1100   99.15  103.126364        -1\n2  2019-01-04  101.13  103.76   99.6601  101.70  102.867025        -1\n3  2019-01-07  101.50  104.94   99.2900  104.41  103.147566         1\n4  2019-01-08  106.21  109.45  105.2500  107.92  104.015281         1",
      "text/html": "<div>\n<style scoped>\n    .dataframe tbody tr th:only-of-type {\n        vertical-align: middle;\n    }\n\n    .dataframe tbody tr th {\n        vertical-align: top;\n    }\n\n    .dataframe thead th {\n        text-align: right;\n    }\n</style>\n<table border=\"1\" class=\"dataframe\">\n  <thead>\n    <tr style=\"text-align: right;\">\n      <th></th>\n      <th>Date (GMT)</th>\n      <th>Open</th>\n      <th>High</th>\n      <th>Low</th>\n      <th>Last</th>\n      <th>ema</th>\n      <th>emaTrend</th>\n    </tr>\n  </thead>\n  <tbody>\n    <tr>\n      <th>0</th>\n      <td>2019-01-02</td>\n      <td>100.24</td>\n      <td>104.52</td>\n      <td>99.0400</td>\n      <td>104.01</td>\n      <td>104.010000</td>\n      <td>0</td>\n    </tr>\n    <tr>\n      <th>1</th>\n      <td>2019-01-03</td>\n      <td>102.40</td>\n      <td>103.00</td>\n      <td>99.1100</td>\n      <td>99.15</td>\n      <td>103.126364</td>\n      <td>-1</td>\n    </tr>\n    <tr>\n      <th>2</th>\n      <td>2019-01-04</td>\n      <td>101.13</td>\n      <td>103.76</td>\n      <td>99.6601</td>\n      <td>101.70</td>\n      <td>102.867025</td>\n      <td>-1</td>\n    </tr>\n    <tr>\n      <th>3</th>\n      <td>2019-01-07</td>\n      <td>101.50</td>\n      <td>104.94</td>\n      <td>99.2900</td>\n      <td>104.41</td>\n      <td>103.147566</td>\n      <td>1</td>\n    </tr>\n    <tr>\n      <th>4</th>\n      <td>2019-01-08</td>\n      <td>106.21</td>\n      <td>109.45</td>\n      <td>105.2500</td>\n      <td>107.92</td>\n      <td>104.015281</td>\n      <td>1</td>\n    </tr>\n  </tbody>\n</table>\n</div>"
     },
     "execution_count": 10,
     "metadata": {},
     "output_type": "execute_result"
    }
   ],
   "source": [
    "df.head()"
   ],
   "metadata": {
    "collapsed": false
   }
  },
  {
   "cell_type": "code",
   "execution_count": 11,
   "outputs": [],
   "source": [
    "def trendBrDana(df, n):\n",
    "\n",
    "    for i in range(len(df. index)):\n",
    "        df.loc[i,'+day'] = 1 if df.loc[i, 'Last'] - df.loc[i, 'Open'] > 0 else 0\n",
    "        df.loc[i,'-day'] = 1 if df.loc[i, 'Last'] - df.loc[i, 'Open'] < 0 else 0\n",
    "\n",
    "    df['trendBrDana'] = 0\n",
    "\n",
    "    for i in range(n, len(df. index)):\n",
    "        if df['Last'][i] > df['Last'][i - n + 1] and df['+day'][i - n + 1: i].sum() / n >= 0.66:\n",
    "            df.loc[i,'trendBrDana'] = 1\n",
    "        elif df['Last'][i] < df['Last'][i - n + 1] and df['-day'][i - n + 1: i].sum() / n >= 0.66:\n",
    "            df.loc[i,'trendBrDana'] = -1"
   ],
   "metadata": {
    "collapsed": false
   }
  },
  {
   "cell_type": "code",
   "execution_count": 12,
   "outputs": [
    {
     "data": {
      "text/plain": "    Date (GMT)     Open      High       Low    Last         ema  emaTrend  \\\n0   2019-01-02  100.240  104.5200   99.0400  104.01  104.010000         0   \n1   2019-01-03  102.400  103.0000   99.1100   99.15  103.126364        -1   \n2   2019-01-04  101.130  103.7600   99.6601  101.70  102.867025        -1   \n3   2019-01-07  101.500  104.9400   99.2900  104.41  103.147566         1   \n4   2019-01-08  106.210  109.4500  105.2500  107.92  104.015281         1   \n5   2019-01-09  108.700  109.5800  107.1900  107.46  104.641594         1   \n6   2019-01-10  106.630  110.4300  106.2000  110.00  105.615849         1   \n7   2019-01-11  109.530  111.6850  107.8000  109.03  106.236604         1   \n8   2019-01-14  108.290  108.5000  104.3700  104.98  106.008131        -1   \n9   2019-01-15  105.200  106.9950  102.5300  106.49  106.095743         1   \n10  2019-01-16  106.810  107.5000  104.5800  105.93  106.065608        -1   \n11  2019-01-17  105.140  106.1600  104.4200  105.37  105.939134        -1   \n12  2019-01-18  106.650  108.6622  106.3200  108.26  106.361110         1   \n13  2019-01-22  107.690  108.2150  106.7200  107.33  106.537271         1   \n14  2019-01-23  107.860  108.1200   99.7200   99.81  105.314131        -1   \n15  2019-01-24  100.430  102.1600   99.8500  101.49  104.618835        -1   \n16  2019-01-25  102.500  104.5000  101.0200  103.70  104.451774        -1   \n17  2019-01-28  100.750  102.9400  100.1500  102.39  104.076906        -1   \n18  2019-01-29  102.510  102.6400   98.5000  100.81  103.482923        -1   \n19  2019-01-30  102.810  102.9800  100.9450  102.60  103.322391        -1   \n20  2019-01-31  102.910  106.3700  102.7800  105.55  103.727411         1   \n21  2019-02-01  105.400  106.0000  103.5300  104.95  103.949700         1   \n22  2019-02-04  105.910  107.4133  105.4600  106.30  104.377027         1   \n23  2019-02-05  106.690  109.0000  106.6500  107.29  104.906659         1   \n24  2019-02-06   96.755   99.8200   91.4850   92.53  102.656357        -1   \n25  2019-02-07   92.560   98.5700   92.0000   96.39  101.517019        -1   \n26  2019-02-08   95.400   97.2400   94.3800   97.14  100.721198        -1   \n27  2019-02-11   97.630   97.8300   92.8400   93.44   99.397344        -1   \n28  2019-02-12   90.850   90.9700   86.9000   89.25   97.552372        -1   \n29  2019-02-13   90.050   92.4100   88.8900   92.14   96.568304        -1   \n\n    +day  -day  trendBrDana  \n0    1.0   0.0            0  \n1    0.0   1.0            0  \n2    1.0   0.0            0  \n3    1.0   0.0            0  \n4    1.0   0.0            0  \n5    0.0   1.0            0  \n6    1.0   0.0            0  \n7    0.0   1.0            0  \n8    0.0   1.0            0  \n9    1.0   0.0            0  \n10   0.0   1.0            0  \n11   1.0   0.0            0  \n12   1.0   0.0            0  \n13   0.0   1.0            0  \n14   0.0   1.0            0  \n15   1.0   0.0            0  \n16   1.0   0.0            0  \n17   1.0   0.0            0  \n18   0.0   1.0            0  \n19   0.0   1.0            0  \n20   1.0   0.0            0  \n21   0.0   1.0            0  \n22   1.0   0.0            0  \n23   1.0   0.0            0  \n24   0.0   1.0            0  \n25   1.0   0.0            0  \n26   1.0   0.0            0  \n27   0.0   1.0            0  \n28   0.0   1.0            0  \n29   1.0   0.0            0  ",
      "text/html": "<div>\n<style scoped>\n    .dataframe tbody tr th:only-of-type {\n        vertical-align: middle;\n    }\n\n    .dataframe tbody tr th {\n        vertical-align: top;\n    }\n\n    .dataframe thead th {\n        text-align: right;\n    }\n</style>\n<table border=\"1\" class=\"dataframe\">\n  <thead>\n    <tr style=\"text-align: right;\">\n      <th></th>\n      <th>Date (GMT)</th>\n      <th>Open</th>\n      <th>High</th>\n      <th>Low</th>\n      <th>Last</th>\n      <th>ema</th>\n      <th>emaTrend</th>\n      <th>+day</th>\n      <th>-day</th>\n      <th>trendBrDana</th>\n    </tr>\n  </thead>\n  <tbody>\n    <tr>\n      <th>0</th>\n      <td>2019-01-02</td>\n      <td>100.240</td>\n      <td>104.5200</td>\n      <td>99.0400</td>\n      <td>104.01</td>\n      <td>104.010000</td>\n      <td>0</td>\n      <td>1.0</td>\n      <td>0.0</td>\n      <td>0</td>\n    </tr>\n    <tr>\n      <th>1</th>\n      <td>2019-01-03</td>\n      <td>102.400</td>\n      <td>103.0000</td>\n      <td>99.1100</td>\n      <td>99.15</td>\n      <td>103.126364</td>\n      <td>-1</td>\n      <td>0.0</td>\n      <td>1.0</td>\n      <td>0</td>\n    </tr>\n    <tr>\n      <th>2</th>\n      <td>2019-01-04</td>\n      <td>101.130</td>\n      <td>103.7600</td>\n      <td>99.6601</td>\n      <td>101.70</td>\n      <td>102.867025</td>\n      <td>-1</td>\n      <td>1.0</td>\n      <td>0.0</td>\n      <td>0</td>\n    </tr>\n    <tr>\n      <th>3</th>\n      <td>2019-01-07</td>\n      <td>101.500</td>\n      <td>104.9400</td>\n      <td>99.2900</td>\n      <td>104.41</td>\n      <td>103.147566</td>\n      <td>1</td>\n      <td>1.0</td>\n      <td>0.0</td>\n      <td>0</td>\n    </tr>\n    <tr>\n      <th>4</th>\n      <td>2019-01-08</td>\n      <td>106.210</td>\n      <td>109.4500</td>\n      <td>105.2500</td>\n      <td>107.92</td>\n      <td>104.015281</td>\n      <td>1</td>\n      <td>1.0</td>\n      <td>0.0</td>\n      <td>0</td>\n    </tr>\n    <tr>\n      <th>5</th>\n      <td>2019-01-09</td>\n      <td>108.700</td>\n      <td>109.5800</td>\n      <td>107.1900</td>\n      <td>107.46</td>\n      <td>104.641594</td>\n      <td>1</td>\n      <td>0.0</td>\n      <td>1.0</td>\n      <td>0</td>\n    </tr>\n    <tr>\n      <th>6</th>\n      <td>2019-01-10</td>\n      <td>106.630</td>\n      <td>110.4300</td>\n      <td>106.2000</td>\n      <td>110.00</td>\n      <td>105.615849</td>\n      <td>1</td>\n      <td>1.0</td>\n      <td>0.0</td>\n      <td>0</td>\n    </tr>\n    <tr>\n      <th>7</th>\n      <td>2019-01-11</td>\n      <td>109.530</td>\n      <td>111.6850</td>\n      <td>107.8000</td>\n      <td>109.03</td>\n      <td>106.236604</td>\n      <td>1</td>\n      <td>0.0</td>\n      <td>1.0</td>\n      <td>0</td>\n    </tr>\n    <tr>\n      <th>8</th>\n      <td>2019-01-14</td>\n      <td>108.290</td>\n      <td>108.5000</td>\n      <td>104.3700</td>\n      <td>104.98</td>\n      <td>106.008131</td>\n      <td>-1</td>\n      <td>0.0</td>\n      <td>1.0</td>\n      <td>0</td>\n    </tr>\n    <tr>\n      <th>9</th>\n      <td>2019-01-15</td>\n      <td>105.200</td>\n      <td>106.9950</td>\n      <td>102.5300</td>\n      <td>106.49</td>\n      <td>106.095743</td>\n      <td>1</td>\n      <td>1.0</td>\n      <td>0.0</td>\n      <td>0</td>\n    </tr>\n    <tr>\n      <th>10</th>\n      <td>2019-01-16</td>\n      <td>106.810</td>\n      <td>107.5000</td>\n      <td>104.5800</td>\n      <td>105.93</td>\n      <td>106.065608</td>\n      <td>-1</td>\n      <td>0.0</td>\n      <td>1.0</td>\n      <td>0</td>\n    </tr>\n    <tr>\n      <th>11</th>\n      <td>2019-01-17</td>\n      <td>105.140</td>\n      <td>106.1600</td>\n      <td>104.4200</td>\n      <td>105.37</td>\n      <td>105.939134</td>\n      <td>-1</td>\n      <td>1.0</td>\n      <td>0.0</td>\n      <td>0</td>\n    </tr>\n    <tr>\n      <th>12</th>\n      <td>2019-01-18</td>\n      <td>106.650</td>\n      <td>108.6622</td>\n      <td>106.3200</td>\n      <td>108.26</td>\n      <td>106.361110</td>\n      <td>1</td>\n      <td>1.0</td>\n      <td>0.0</td>\n      <td>0</td>\n    </tr>\n    <tr>\n      <th>13</th>\n      <td>2019-01-22</td>\n      <td>107.690</td>\n      <td>108.2150</td>\n      <td>106.7200</td>\n      <td>107.33</td>\n      <td>106.537271</td>\n      <td>1</td>\n      <td>0.0</td>\n      <td>1.0</td>\n      <td>0</td>\n    </tr>\n    <tr>\n      <th>14</th>\n      <td>2019-01-23</td>\n      <td>107.860</td>\n      <td>108.1200</td>\n      <td>99.7200</td>\n      <td>99.81</td>\n      <td>105.314131</td>\n      <td>-1</td>\n      <td>0.0</td>\n      <td>1.0</td>\n      <td>0</td>\n    </tr>\n    <tr>\n      <th>15</th>\n      <td>2019-01-24</td>\n      <td>100.430</td>\n      <td>102.1600</td>\n      <td>99.8500</td>\n      <td>101.49</td>\n      <td>104.618835</td>\n      <td>-1</td>\n      <td>1.0</td>\n      <td>0.0</td>\n      <td>0</td>\n    </tr>\n    <tr>\n      <th>16</th>\n      <td>2019-01-25</td>\n      <td>102.500</td>\n      <td>104.5000</td>\n      <td>101.0200</td>\n      <td>103.70</td>\n      <td>104.451774</td>\n      <td>-1</td>\n      <td>1.0</td>\n      <td>0.0</td>\n      <td>0</td>\n    </tr>\n    <tr>\n      <th>17</th>\n      <td>2019-01-28</td>\n      <td>100.750</td>\n      <td>102.9400</td>\n      <td>100.1500</td>\n      <td>102.39</td>\n      <td>104.076906</td>\n      <td>-1</td>\n      <td>1.0</td>\n      <td>0.0</td>\n      <td>0</td>\n    </tr>\n    <tr>\n      <th>18</th>\n      <td>2019-01-29</td>\n      <td>102.510</td>\n      <td>102.6400</td>\n      <td>98.5000</td>\n      <td>100.81</td>\n      <td>103.482923</td>\n      <td>-1</td>\n      <td>0.0</td>\n      <td>1.0</td>\n      <td>0</td>\n    </tr>\n    <tr>\n      <th>19</th>\n      <td>2019-01-30</td>\n      <td>102.810</td>\n      <td>102.9800</td>\n      <td>100.9450</td>\n      <td>102.60</td>\n      <td>103.322391</td>\n      <td>-1</td>\n      <td>0.0</td>\n      <td>1.0</td>\n      <td>0</td>\n    </tr>\n    <tr>\n      <th>20</th>\n      <td>2019-01-31</td>\n      <td>102.910</td>\n      <td>106.3700</td>\n      <td>102.7800</td>\n      <td>105.55</td>\n      <td>103.727411</td>\n      <td>1</td>\n      <td>1.0</td>\n      <td>0.0</td>\n      <td>0</td>\n    </tr>\n    <tr>\n      <th>21</th>\n      <td>2019-02-01</td>\n      <td>105.400</td>\n      <td>106.0000</td>\n      <td>103.5300</td>\n      <td>104.95</td>\n      <td>103.949700</td>\n      <td>1</td>\n      <td>0.0</td>\n      <td>1.0</td>\n      <td>0</td>\n    </tr>\n    <tr>\n      <th>22</th>\n      <td>2019-02-04</td>\n      <td>105.910</td>\n      <td>107.4133</td>\n      <td>105.4600</td>\n      <td>106.30</td>\n      <td>104.377027</td>\n      <td>1</td>\n      <td>1.0</td>\n      <td>0.0</td>\n      <td>0</td>\n    </tr>\n    <tr>\n      <th>23</th>\n      <td>2019-02-05</td>\n      <td>106.690</td>\n      <td>109.0000</td>\n      <td>106.6500</td>\n      <td>107.29</td>\n      <td>104.906659</td>\n      <td>1</td>\n      <td>1.0</td>\n      <td>0.0</td>\n      <td>0</td>\n    </tr>\n    <tr>\n      <th>24</th>\n      <td>2019-02-06</td>\n      <td>96.755</td>\n      <td>99.8200</td>\n      <td>91.4850</td>\n      <td>92.53</td>\n      <td>102.656357</td>\n      <td>-1</td>\n      <td>0.0</td>\n      <td>1.0</td>\n      <td>0</td>\n    </tr>\n    <tr>\n      <th>25</th>\n      <td>2019-02-07</td>\n      <td>92.560</td>\n      <td>98.5700</td>\n      <td>92.0000</td>\n      <td>96.39</td>\n      <td>101.517019</td>\n      <td>-1</td>\n      <td>1.0</td>\n      <td>0.0</td>\n      <td>0</td>\n    </tr>\n    <tr>\n      <th>26</th>\n      <td>2019-02-08</td>\n      <td>95.400</td>\n      <td>97.2400</td>\n      <td>94.3800</td>\n      <td>97.14</td>\n      <td>100.721198</td>\n      <td>-1</td>\n      <td>1.0</td>\n      <td>0.0</td>\n      <td>0</td>\n    </tr>\n    <tr>\n      <th>27</th>\n      <td>2019-02-11</td>\n      <td>97.630</td>\n      <td>97.8300</td>\n      <td>92.8400</td>\n      <td>93.44</td>\n      <td>99.397344</td>\n      <td>-1</td>\n      <td>0.0</td>\n      <td>1.0</td>\n      <td>0</td>\n    </tr>\n    <tr>\n      <th>28</th>\n      <td>2019-02-12</td>\n      <td>90.850</td>\n      <td>90.9700</td>\n      <td>86.9000</td>\n      <td>89.25</td>\n      <td>97.552372</td>\n      <td>-1</td>\n      <td>0.0</td>\n      <td>1.0</td>\n      <td>0</td>\n    </tr>\n    <tr>\n      <th>29</th>\n      <td>2019-02-13</td>\n      <td>90.050</td>\n      <td>92.4100</td>\n      <td>88.8900</td>\n      <td>92.14</td>\n      <td>96.568304</td>\n      <td>-1</td>\n      <td>1.0</td>\n      <td>0.0</td>\n      <td>0</td>\n    </tr>\n  </tbody>\n</table>\n</div>"
     },
     "execution_count": 12,
     "metadata": {},
     "output_type": "execute_result"
    }
   ],
   "source": [
    "trendBrDana(df,10)\n",
    "df.head(30)"
   ],
   "metadata": {
    "collapsed": false
   }
  },
  {
   "cell_type": "code",
   "execution_count": 13,
   "outputs": [],
   "source": [
    "#this was going to be used in case our prediction task was different\n",
    "def FutureReturn(df):\n",
    "    for i in range(len(df. index)- 10):\n",
    "        df['FutureReturn'] = df['Last'].shift(-10) - df['Last']"
   ],
   "metadata": {
    "collapsed": false
   }
  },
  {
   "cell_type": "code",
   "execution_count": 14,
   "outputs": [],
   "source": [
    "FutureReturn(df)"
   ],
   "metadata": {
    "collapsed": false
   }
  },
  {
   "cell_type": "code",
   "execution_count": 15,
   "outputs": [
    {
     "data": {
      "text/plain": "    Date (GMT)    Open      High       Low    Last         ema  emaTrend  \\\n0   2019-01-02  100.24  104.5200   99.0400  104.01  104.010000         0   \n1   2019-01-03  102.40  103.0000   99.1100   99.15  103.126364        -1   \n2   2019-01-04  101.13  103.7600   99.6601  101.70  102.867025        -1   \n3   2019-01-07  101.50  104.9400   99.2900  104.41  103.147566         1   \n4   2019-01-08  106.21  109.4500  105.2500  107.92  104.015281         1   \n5   2019-01-09  108.70  109.5800  107.1900  107.46  104.641594         1   \n6   2019-01-10  106.63  110.4300  106.2000  110.00  105.615849         1   \n7   2019-01-11  109.53  111.6850  107.8000  109.03  106.236604         1   \n8   2019-01-14  108.29  108.5000  104.3700  104.98  106.008131        -1   \n9   2019-01-15  105.20  106.9950  102.5300  106.49  106.095743         1   \n10  2019-01-16  106.81  107.5000  104.5800  105.93  106.065608        -1   \n11  2019-01-17  105.14  106.1600  104.4200  105.37  105.939134        -1   \n12  2019-01-18  106.65  108.6622  106.3200  108.26  106.361110         1   \n13  2019-01-22  107.69  108.2150  106.7200  107.33  106.537271         1   \n14  2019-01-23  107.86  108.1200   99.7200   99.81  105.314131        -1   \n15  2019-01-24  100.43  102.1600   99.8500  101.49  104.618835        -1   \n16  2019-01-25  102.50  104.5000  101.0200  103.70  104.451774        -1   \n17  2019-01-28  100.75  102.9400  100.1500  102.39  104.076906        -1   \n18  2019-01-29  102.51  102.6400   98.5000  100.81  103.482923        -1   \n19  2019-01-30  102.81  102.9800  100.9450  102.60  103.322391        -1   \n\n    +day  -day  trendBrDana  FutureReturn  \n0    1.0   0.0            0          1.92  \n1    0.0   1.0            0          6.22  \n2    1.0   0.0            0          6.56  \n3    1.0   0.0            0          2.92  \n4    1.0   0.0            0         -8.11  \n5    0.0   1.0            0         -5.97  \n6    1.0   0.0            0         -6.30  \n7    0.0   1.0            0         -6.64  \n8    0.0   1.0            0         -4.17  \n9    1.0   0.0            0         -3.89  \n10   0.0   1.0            0         -0.38  \n11   1.0   0.0            0         -0.42  \n12   1.0   0.0            0         -1.96  \n13   0.0   1.0            0         -0.04  \n14   0.0   1.0            0         -7.28  \n15   1.0   0.0            0         -5.10  \n16   1.0   0.0            0         -6.56  \n17   1.0   0.0            0         -8.95  \n18   0.0   1.0            0        -11.56  \n19   0.0   1.0            0        -10.46  ",
      "text/html": "<div>\n<style scoped>\n    .dataframe tbody tr th:only-of-type {\n        vertical-align: middle;\n    }\n\n    .dataframe tbody tr th {\n        vertical-align: top;\n    }\n\n    .dataframe thead th {\n        text-align: right;\n    }\n</style>\n<table border=\"1\" class=\"dataframe\">\n  <thead>\n    <tr style=\"text-align: right;\">\n      <th></th>\n      <th>Date (GMT)</th>\n      <th>Open</th>\n      <th>High</th>\n      <th>Low</th>\n      <th>Last</th>\n      <th>ema</th>\n      <th>emaTrend</th>\n      <th>+day</th>\n      <th>-day</th>\n      <th>trendBrDana</th>\n      <th>FutureReturn</th>\n    </tr>\n  </thead>\n  <tbody>\n    <tr>\n      <th>0</th>\n      <td>2019-01-02</td>\n      <td>100.24</td>\n      <td>104.5200</td>\n      <td>99.0400</td>\n      <td>104.01</td>\n      <td>104.010000</td>\n      <td>0</td>\n      <td>1.0</td>\n      <td>0.0</td>\n      <td>0</td>\n      <td>1.92</td>\n    </tr>\n    <tr>\n      <th>1</th>\n      <td>2019-01-03</td>\n      <td>102.40</td>\n      <td>103.0000</td>\n      <td>99.1100</td>\n      <td>99.15</td>\n      <td>103.126364</td>\n      <td>-1</td>\n      <td>0.0</td>\n      <td>1.0</td>\n      <td>0</td>\n      <td>6.22</td>\n    </tr>\n    <tr>\n      <th>2</th>\n      <td>2019-01-04</td>\n      <td>101.13</td>\n      <td>103.7600</td>\n      <td>99.6601</td>\n      <td>101.70</td>\n      <td>102.867025</td>\n      <td>-1</td>\n      <td>1.0</td>\n      <td>0.0</td>\n      <td>0</td>\n      <td>6.56</td>\n    </tr>\n    <tr>\n      <th>3</th>\n      <td>2019-01-07</td>\n      <td>101.50</td>\n      <td>104.9400</td>\n      <td>99.2900</td>\n      <td>104.41</td>\n      <td>103.147566</td>\n      <td>1</td>\n      <td>1.0</td>\n      <td>0.0</td>\n      <td>0</td>\n      <td>2.92</td>\n    </tr>\n    <tr>\n      <th>4</th>\n      <td>2019-01-08</td>\n      <td>106.21</td>\n      <td>109.4500</td>\n      <td>105.2500</td>\n      <td>107.92</td>\n      <td>104.015281</td>\n      <td>1</td>\n      <td>1.0</td>\n      <td>0.0</td>\n      <td>0</td>\n      <td>-8.11</td>\n    </tr>\n    <tr>\n      <th>5</th>\n      <td>2019-01-09</td>\n      <td>108.70</td>\n      <td>109.5800</td>\n      <td>107.1900</td>\n      <td>107.46</td>\n      <td>104.641594</td>\n      <td>1</td>\n      <td>0.0</td>\n      <td>1.0</td>\n      <td>0</td>\n      <td>-5.97</td>\n    </tr>\n    <tr>\n      <th>6</th>\n      <td>2019-01-10</td>\n      <td>106.63</td>\n      <td>110.4300</td>\n      <td>106.2000</td>\n      <td>110.00</td>\n      <td>105.615849</td>\n      <td>1</td>\n      <td>1.0</td>\n      <td>0.0</td>\n      <td>0</td>\n      <td>-6.30</td>\n    </tr>\n    <tr>\n      <th>7</th>\n      <td>2019-01-11</td>\n      <td>109.53</td>\n      <td>111.6850</td>\n      <td>107.8000</td>\n      <td>109.03</td>\n      <td>106.236604</td>\n      <td>1</td>\n      <td>0.0</td>\n      <td>1.0</td>\n      <td>0</td>\n      <td>-6.64</td>\n    </tr>\n    <tr>\n      <th>8</th>\n      <td>2019-01-14</td>\n      <td>108.29</td>\n      <td>108.5000</td>\n      <td>104.3700</td>\n      <td>104.98</td>\n      <td>106.008131</td>\n      <td>-1</td>\n      <td>0.0</td>\n      <td>1.0</td>\n      <td>0</td>\n      <td>-4.17</td>\n    </tr>\n    <tr>\n      <th>9</th>\n      <td>2019-01-15</td>\n      <td>105.20</td>\n      <td>106.9950</td>\n      <td>102.5300</td>\n      <td>106.49</td>\n      <td>106.095743</td>\n      <td>1</td>\n      <td>1.0</td>\n      <td>0.0</td>\n      <td>0</td>\n      <td>-3.89</td>\n    </tr>\n    <tr>\n      <th>10</th>\n      <td>2019-01-16</td>\n      <td>106.81</td>\n      <td>107.5000</td>\n      <td>104.5800</td>\n      <td>105.93</td>\n      <td>106.065608</td>\n      <td>-1</td>\n      <td>0.0</td>\n      <td>1.0</td>\n      <td>0</td>\n      <td>-0.38</td>\n    </tr>\n    <tr>\n      <th>11</th>\n      <td>2019-01-17</td>\n      <td>105.14</td>\n      <td>106.1600</td>\n      <td>104.4200</td>\n      <td>105.37</td>\n      <td>105.939134</td>\n      <td>-1</td>\n      <td>1.0</td>\n      <td>0.0</td>\n      <td>0</td>\n      <td>-0.42</td>\n    </tr>\n    <tr>\n      <th>12</th>\n      <td>2019-01-18</td>\n      <td>106.65</td>\n      <td>108.6622</td>\n      <td>106.3200</td>\n      <td>108.26</td>\n      <td>106.361110</td>\n      <td>1</td>\n      <td>1.0</td>\n      <td>0.0</td>\n      <td>0</td>\n      <td>-1.96</td>\n    </tr>\n    <tr>\n      <th>13</th>\n      <td>2019-01-22</td>\n      <td>107.69</td>\n      <td>108.2150</td>\n      <td>106.7200</td>\n      <td>107.33</td>\n      <td>106.537271</td>\n      <td>1</td>\n      <td>0.0</td>\n      <td>1.0</td>\n      <td>0</td>\n      <td>-0.04</td>\n    </tr>\n    <tr>\n      <th>14</th>\n      <td>2019-01-23</td>\n      <td>107.86</td>\n      <td>108.1200</td>\n      <td>99.7200</td>\n      <td>99.81</td>\n      <td>105.314131</td>\n      <td>-1</td>\n      <td>0.0</td>\n      <td>1.0</td>\n      <td>0</td>\n      <td>-7.28</td>\n    </tr>\n    <tr>\n      <th>15</th>\n      <td>2019-01-24</td>\n      <td>100.43</td>\n      <td>102.1600</td>\n      <td>99.8500</td>\n      <td>101.49</td>\n      <td>104.618835</td>\n      <td>-1</td>\n      <td>1.0</td>\n      <td>0.0</td>\n      <td>0</td>\n      <td>-5.10</td>\n    </tr>\n    <tr>\n      <th>16</th>\n      <td>2019-01-25</td>\n      <td>102.50</td>\n      <td>104.5000</td>\n      <td>101.0200</td>\n      <td>103.70</td>\n      <td>104.451774</td>\n      <td>-1</td>\n      <td>1.0</td>\n      <td>0.0</td>\n      <td>0</td>\n      <td>-6.56</td>\n    </tr>\n    <tr>\n      <th>17</th>\n      <td>2019-01-28</td>\n      <td>100.75</td>\n      <td>102.9400</td>\n      <td>100.1500</td>\n      <td>102.39</td>\n      <td>104.076906</td>\n      <td>-1</td>\n      <td>1.0</td>\n      <td>0.0</td>\n      <td>0</td>\n      <td>-8.95</td>\n    </tr>\n    <tr>\n      <th>18</th>\n      <td>2019-01-29</td>\n      <td>102.51</td>\n      <td>102.6400</td>\n      <td>98.5000</td>\n      <td>100.81</td>\n      <td>103.482923</td>\n      <td>-1</td>\n      <td>0.0</td>\n      <td>1.0</td>\n      <td>0</td>\n      <td>-11.56</td>\n    </tr>\n    <tr>\n      <th>19</th>\n      <td>2019-01-30</td>\n      <td>102.81</td>\n      <td>102.9800</td>\n      <td>100.9450</td>\n      <td>102.60</td>\n      <td>103.322391</td>\n      <td>-1</td>\n      <td>0.0</td>\n      <td>1.0</td>\n      <td>0</td>\n      <td>-10.46</td>\n    </tr>\n  </tbody>\n</table>\n</div>"
     },
     "execution_count": 15,
     "metadata": {},
     "output_type": "execute_result"
    }
   ],
   "source": [
    "df.head(20)"
   ],
   "metadata": {
    "collapsed": false
   }
  },
  {
   "cell_type": "code",
   "execution_count": 16,
   "outputs": [],
   "source": [
    "df['FutureEmaTrend'] = df['emaTrend'].shift(-10)\n",
    "df['FutureTrendBrDana'] = df['trendBrDana'].shift(-10)"
   ],
   "metadata": {
    "collapsed": false
   }
  },
  {
   "cell_type": "code",
   "execution_count": 17,
   "outputs": [
    {
     "data": {
      "text/plain": "    Date (GMT)    Open      High       Low    Last         ema  emaTrend  \\\n0   2019-01-02  100.24  104.5200   99.0400  104.01  104.010000         0   \n1   2019-01-03  102.40  103.0000   99.1100   99.15  103.126364        -1   \n2   2019-01-04  101.13  103.7600   99.6601  101.70  102.867025        -1   \n3   2019-01-07  101.50  104.9400   99.2900  104.41  103.147566         1   \n4   2019-01-08  106.21  109.4500  105.2500  107.92  104.015281         1   \n5   2019-01-09  108.70  109.5800  107.1900  107.46  104.641594         1   \n6   2019-01-10  106.63  110.4300  106.2000  110.00  105.615849         1   \n7   2019-01-11  109.53  111.6850  107.8000  109.03  106.236604         1   \n8   2019-01-14  108.29  108.5000  104.3700  104.98  106.008131        -1   \n9   2019-01-15  105.20  106.9950  102.5300  106.49  106.095743         1   \n10  2019-01-16  106.81  107.5000  104.5800  105.93  106.065608        -1   \n11  2019-01-17  105.14  106.1600  104.4200  105.37  105.939134        -1   \n12  2019-01-18  106.65  108.6622  106.3200  108.26  106.361110         1   \n13  2019-01-22  107.69  108.2150  106.7200  107.33  106.537271         1   \n14  2019-01-23  107.86  108.1200   99.7200   99.81  105.314131        -1   \n15  2019-01-24  100.43  102.1600   99.8500  101.49  104.618835        -1   \n16  2019-01-25  102.50  104.5000  101.0200  103.70  104.451774        -1   \n17  2019-01-28  100.75  102.9400  100.1500  102.39  104.076906        -1   \n18  2019-01-29  102.51  102.6400   98.5000  100.81  103.482923        -1   \n19  2019-01-30  102.81  102.9800  100.9450  102.60  103.322391        -1   \n\n    +day  -day  trendBrDana  FutureReturn  FutureEmaTrend  FutureTrendBrDana  \n0    1.0   0.0            0          1.92            -1.0                0.0  \n1    0.0   1.0            0          6.22            -1.0                0.0  \n2    1.0   0.0            0          6.56             1.0                0.0  \n3    1.0   0.0            0          2.92             1.0                0.0  \n4    1.0   0.0            0         -8.11            -1.0                0.0  \n5    0.0   1.0            0         -5.97            -1.0                0.0  \n6    1.0   0.0            0         -6.30            -1.0                0.0  \n7    0.0   1.0            0         -6.64            -1.0                0.0  \n8    0.0   1.0            0         -4.17            -1.0                0.0  \n9    1.0   0.0            0         -3.89            -1.0                0.0  \n10   0.0   1.0            0         -0.38             1.0                0.0  \n11   1.0   0.0            0         -0.42             1.0                0.0  \n12   1.0   0.0            0         -1.96             1.0                0.0  \n13   0.0   1.0            0         -0.04             1.0                0.0  \n14   0.0   1.0            0         -7.28            -1.0                0.0  \n15   1.0   0.0            0         -5.10            -1.0                0.0  \n16   1.0   0.0            0         -6.56            -1.0                0.0  \n17   1.0   0.0            0         -8.95            -1.0                0.0  \n18   0.0   1.0            0        -11.56            -1.0                0.0  \n19   0.0   1.0            0        -10.46            -1.0                0.0  ",
      "text/html": "<div>\n<style scoped>\n    .dataframe tbody tr th:only-of-type {\n        vertical-align: middle;\n    }\n\n    .dataframe tbody tr th {\n        vertical-align: top;\n    }\n\n    .dataframe thead th {\n        text-align: right;\n    }\n</style>\n<table border=\"1\" class=\"dataframe\">\n  <thead>\n    <tr style=\"text-align: right;\">\n      <th></th>\n      <th>Date (GMT)</th>\n      <th>Open</th>\n      <th>High</th>\n      <th>Low</th>\n      <th>Last</th>\n      <th>ema</th>\n      <th>emaTrend</th>\n      <th>+day</th>\n      <th>-day</th>\n      <th>trendBrDana</th>\n      <th>FutureReturn</th>\n      <th>FutureEmaTrend</th>\n      <th>FutureTrendBrDana</th>\n    </tr>\n  </thead>\n  <tbody>\n    <tr>\n      <th>0</th>\n      <td>2019-01-02</td>\n      <td>100.24</td>\n      <td>104.5200</td>\n      <td>99.0400</td>\n      <td>104.01</td>\n      <td>104.010000</td>\n      <td>0</td>\n      <td>1.0</td>\n      <td>0.0</td>\n      <td>0</td>\n      <td>1.92</td>\n      <td>-1.0</td>\n      <td>0.0</td>\n    </tr>\n    <tr>\n      <th>1</th>\n      <td>2019-01-03</td>\n      <td>102.40</td>\n      <td>103.0000</td>\n      <td>99.1100</td>\n      <td>99.15</td>\n      <td>103.126364</td>\n      <td>-1</td>\n      <td>0.0</td>\n      <td>1.0</td>\n      <td>0</td>\n      <td>6.22</td>\n      <td>-1.0</td>\n      <td>0.0</td>\n    </tr>\n    <tr>\n      <th>2</th>\n      <td>2019-01-04</td>\n      <td>101.13</td>\n      <td>103.7600</td>\n      <td>99.6601</td>\n      <td>101.70</td>\n      <td>102.867025</td>\n      <td>-1</td>\n      <td>1.0</td>\n      <td>0.0</td>\n      <td>0</td>\n      <td>6.56</td>\n      <td>1.0</td>\n      <td>0.0</td>\n    </tr>\n    <tr>\n      <th>3</th>\n      <td>2019-01-07</td>\n      <td>101.50</td>\n      <td>104.9400</td>\n      <td>99.2900</td>\n      <td>104.41</td>\n      <td>103.147566</td>\n      <td>1</td>\n      <td>1.0</td>\n      <td>0.0</td>\n      <td>0</td>\n      <td>2.92</td>\n      <td>1.0</td>\n      <td>0.0</td>\n    </tr>\n    <tr>\n      <th>4</th>\n      <td>2019-01-08</td>\n      <td>106.21</td>\n      <td>109.4500</td>\n      <td>105.2500</td>\n      <td>107.92</td>\n      <td>104.015281</td>\n      <td>1</td>\n      <td>1.0</td>\n      <td>0.0</td>\n      <td>0</td>\n      <td>-8.11</td>\n      <td>-1.0</td>\n      <td>0.0</td>\n    </tr>\n    <tr>\n      <th>5</th>\n      <td>2019-01-09</td>\n      <td>108.70</td>\n      <td>109.5800</td>\n      <td>107.1900</td>\n      <td>107.46</td>\n      <td>104.641594</td>\n      <td>1</td>\n      <td>0.0</td>\n      <td>1.0</td>\n      <td>0</td>\n      <td>-5.97</td>\n      <td>-1.0</td>\n      <td>0.0</td>\n    </tr>\n    <tr>\n      <th>6</th>\n      <td>2019-01-10</td>\n      <td>106.63</td>\n      <td>110.4300</td>\n      <td>106.2000</td>\n      <td>110.00</td>\n      <td>105.615849</td>\n      <td>1</td>\n      <td>1.0</td>\n      <td>0.0</td>\n      <td>0</td>\n      <td>-6.30</td>\n      <td>-1.0</td>\n      <td>0.0</td>\n    </tr>\n    <tr>\n      <th>7</th>\n      <td>2019-01-11</td>\n      <td>109.53</td>\n      <td>111.6850</td>\n      <td>107.8000</td>\n      <td>109.03</td>\n      <td>106.236604</td>\n      <td>1</td>\n      <td>0.0</td>\n      <td>1.0</td>\n      <td>0</td>\n      <td>-6.64</td>\n      <td>-1.0</td>\n      <td>0.0</td>\n    </tr>\n    <tr>\n      <th>8</th>\n      <td>2019-01-14</td>\n      <td>108.29</td>\n      <td>108.5000</td>\n      <td>104.3700</td>\n      <td>104.98</td>\n      <td>106.008131</td>\n      <td>-1</td>\n      <td>0.0</td>\n      <td>1.0</td>\n      <td>0</td>\n      <td>-4.17</td>\n      <td>-1.0</td>\n      <td>0.0</td>\n    </tr>\n    <tr>\n      <th>9</th>\n      <td>2019-01-15</td>\n      <td>105.20</td>\n      <td>106.9950</td>\n      <td>102.5300</td>\n      <td>106.49</td>\n      <td>106.095743</td>\n      <td>1</td>\n      <td>1.0</td>\n      <td>0.0</td>\n      <td>0</td>\n      <td>-3.89</td>\n      <td>-1.0</td>\n      <td>0.0</td>\n    </tr>\n    <tr>\n      <th>10</th>\n      <td>2019-01-16</td>\n      <td>106.81</td>\n      <td>107.5000</td>\n      <td>104.5800</td>\n      <td>105.93</td>\n      <td>106.065608</td>\n      <td>-1</td>\n      <td>0.0</td>\n      <td>1.0</td>\n      <td>0</td>\n      <td>-0.38</td>\n      <td>1.0</td>\n      <td>0.0</td>\n    </tr>\n    <tr>\n      <th>11</th>\n      <td>2019-01-17</td>\n      <td>105.14</td>\n      <td>106.1600</td>\n      <td>104.4200</td>\n      <td>105.37</td>\n      <td>105.939134</td>\n      <td>-1</td>\n      <td>1.0</td>\n      <td>0.0</td>\n      <td>0</td>\n      <td>-0.42</td>\n      <td>1.0</td>\n      <td>0.0</td>\n    </tr>\n    <tr>\n      <th>12</th>\n      <td>2019-01-18</td>\n      <td>106.65</td>\n      <td>108.6622</td>\n      <td>106.3200</td>\n      <td>108.26</td>\n      <td>106.361110</td>\n      <td>1</td>\n      <td>1.0</td>\n      <td>0.0</td>\n      <td>0</td>\n      <td>-1.96</td>\n      <td>1.0</td>\n      <td>0.0</td>\n    </tr>\n    <tr>\n      <th>13</th>\n      <td>2019-01-22</td>\n      <td>107.69</td>\n      <td>108.2150</td>\n      <td>106.7200</td>\n      <td>107.33</td>\n      <td>106.537271</td>\n      <td>1</td>\n      <td>0.0</td>\n      <td>1.0</td>\n      <td>0</td>\n      <td>-0.04</td>\n      <td>1.0</td>\n      <td>0.0</td>\n    </tr>\n    <tr>\n      <th>14</th>\n      <td>2019-01-23</td>\n      <td>107.86</td>\n      <td>108.1200</td>\n      <td>99.7200</td>\n      <td>99.81</td>\n      <td>105.314131</td>\n      <td>-1</td>\n      <td>0.0</td>\n      <td>1.0</td>\n      <td>0</td>\n      <td>-7.28</td>\n      <td>-1.0</td>\n      <td>0.0</td>\n    </tr>\n    <tr>\n      <th>15</th>\n      <td>2019-01-24</td>\n      <td>100.43</td>\n      <td>102.1600</td>\n      <td>99.8500</td>\n      <td>101.49</td>\n      <td>104.618835</td>\n      <td>-1</td>\n      <td>1.0</td>\n      <td>0.0</td>\n      <td>0</td>\n      <td>-5.10</td>\n      <td>-1.0</td>\n      <td>0.0</td>\n    </tr>\n    <tr>\n      <th>16</th>\n      <td>2019-01-25</td>\n      <td>102.50</td>\n      <td>104.5000</td>\n      <td>101.0200</td>\n      <td>103.70</td>\n      <td>104.451774</td>\n      <td>-1</td>\n      <td>1.0</td>\n      <td>0.0</td>\n      <td>0</td>\n      <td>-6.56</td>\n      <td>-1.0</td>\n      <td>0.0</td>\n    </tr>\n    <tr>\n      <th>17</th>\n      <td>2019-01-28</td>\n      <td>100.75</td>\n      <td>102.9400</td>\n      <td>100.1500</td>\n      <td>102.39</td>\n      <td>104.076906</td>\n      <td>-1</td>\n      <td>1.0</td>\n      <td>0.0</td>\n      <td>0</td>\n      <td>-8.95</td>\n      <td>-1.0</td>\n      <td>0.0</td>\n    </tr>\n    <tr>\n      <th>18</th>\n      <td>2019-01-29</td>\n      <td>102.51</td>\n      <td>102.6400</td>\n      <td>98.5000</td>\n      <td>100.81</td>\n      <td>103.482923</td>\n      <td>-1</td>\n      <td>0.0</td>\n      <td>1.0</td>\n      <td>0</td>\n      <td>-11.56</td>\n      <td>-1.0</td>\n      <td>0.0</td>\n    </tr>\n    <tr>\n      <th>19</th>\n      <td>2019-01-30</td>\n      <td>102.81</td>\n      <td>102.9800</td>\n      <td>100.9450</td>\n      <td>102.60</td>\n      <td>103.322391</td>\n      <td>-1</td>\n      <td>0.0</td>\n      <td>1.0</td>\n      <td>0</td>\n      <td>-10.46</td>\n      <td>-1.0</td>\n      <td>0.0</td>\n    </tr>\n  </tbody>\n</table>\n</div>"
     },
     "execution_count": 17,
     "metadata": {},
     "output_type": "execute_result"
    }
   ],
   "source": [
    "df.head(20)"
   ],
   "metadata": {
    "collapsed": false
   }
  },
  {
   "cell_type": "code",
   "execution_count": 18,
   "outputs": [],
   "source": [
    "df2 = df.loc[:,['Date (GMT)','Open','Last', 'emaTrend', 'trendBrDana', 'FutureReturn', 'FutureEmaTrend', 'FutureTrendBrDana']]"
   ],
   "metadata": {
    "collapsed": false
   }
  },
  {
   "cell_type": "code",
   "execution_count": 36,
   "outputs": [],
   "source": [
    "df2.to_csv('data/prices_trends/ntdoytrendsandprices.csv', sep=',', index=False)"
   ],
   "metadata": {
    "collapsed": false
   }
  }
 ],
 "metadata": {
  "kernelspec": {
   "display_name": "Python 3 (ipykernel)",
   "language": "python",
   "name": "python3"
  },
  "language_info": {
   "codemirror_mode": {
    "name": "ipython",
    "version": 3
   },
   "file_extension": ".py",
   "mimetype": "text/x-python",
   "name": "python",
   "nbconvert_exporter": "python",
   "pygments_lexer": "ipython3",
   "version": "3.9.13"
  }
 },
 "nbformat": 4,
 "nbformat_minor": 5
}
