{
 "cells": [
  {
   "cell_type": "markdown",
   "source": [
    "In this notebook we are using 3 pre-trained sentiment analysis models to give our tweets sentiment scores. The tweets were previously scraped from tweeter using keywords to find relevant tweets for the stock that we are predicting."
   ],
   "metadata": {
    "collapsed": false
   }
  },
  {
   "cell_type": "code",
   "execution_count": 1,
   "metadata": {
    "collapsed": true
   },
   "outputs": [],
   "source": [
    "import pandas as pd\n",
    "import nltk\n",
    "import re\n",
    "import string\n",
    "from nltk.corpus import stopwords\n",
    "from nltk.stem import PorterStemmer\n",
    "from nltk.tokenize import TweetTokenizer\n",
    "from transformers import AutoTokenizer, AutoModelForSequenceClassification\n",
    "import torch\n",
    "import flair"
   ]
  },
  {
   "cell_type": "code",
   "execution_count": 2,
   "outputs": [
    {
     "name": "stderr",
     "output_type": "stream",
     "text": [
      "[nltk_data] Downloading package vader_lexicon to\n",
      "[nltk_data]     C:\\Users\\lazar\\AppData\\Roaming\\nltk_data...\n",
      "[nltk_data]   Package vader_lexicon is already up-to-date!\n",
      "[nltk_data] Downloading package stopwords to\n",
      "[nltk_data]     C:\\Users\\lazar\\AppData\\Roaming\\nltk_data...\n",
      "[nltk_data]   Package stopwords is already up-to-date!\n"
     ]
    },
    {
     "data": {
      "text/plain": "True"
     },
     "execution_count": 2,
     "metadata": {},
     "output_type": "execute_result"
    }
   ],
   "source": [
    "#download vader from nltk\n",
    "nltk.download('vader_lexicon')\n",
    "from nltk.sentiment.vader import SentimentIntensityAnalyzer\n",
    "\n",
    "#download stopwords for preprocessing\n",
    "nltk.download('stopwords')"
   ],
   "metadata": {
    "collapsed": false
   }
  },
  {
   "cell_type": "markdown",
   "source": [
    "Read the data"
   ],
   "metadata": {
    "collapsed": false
   }
  },
  {
   "cell_type": "code",
   "execution_count": 3,
   "outputs": [
    {
     "name": "stdout",
     "output_type": "stream",
     "text": [
      "(50721, 24)\n"
     ]
    },
    {
     "data": {
      "text/plain": "                UserId         UserName  Verified  \\\n0  1664015967280590849  TimeActionQuant     False   \n1  1664013296616259584  solrevived4real     False   \n2  1664013202567446528   AnalyseBourses     False   \n3  1664011816089927685        DisfoldAI     False   \n4  1664010574517133312     sp500bullish     False   \n\n                         Location  Followers  \\\n0                   Nashville, TN       1158   \n1                             NaN         91   \n2  New York Paris Hong Kong Tokyo        123   \n3                        Internet      12829   \n4                             NaN         12   \n\n                                               Tweet  \\\n0  Intraday Cycles - 05/31/2023 - Results!\\n\\n#ES...   \n1  couldn't have asked for a more perfect monthly...   \n2  .\\n\\n#Parabolic SAR &amp; STA for the 06/01 wa...   \n3  The #Nasdaq is trending up, the #Dow is trendi...   \n4  @ardizor 0xB7e6691Bb0D09C8F988fDea6D3f2a89cFbe...   \n\n                        Date  Retweeted Language  Likes Count  ...  \\\n0  2023-05-31 21:08:17+00:00        NaN       en            0  ...   \n1  2023-05-31 20:57:40+00:00        NaN       en            0  ...   \n2  2023-05-31 20:57:18+00:00        NaN       en            0  ...   \n3  2023-05-31 20:51:47+00:00        NaN       en            0  ...   \n4  2023-05-31 20:46:51+00:00        NaN       en            0  ...   \n\n                                              scores  compound    pos    neg  \\\n0  {'neg': 0.0, 'neu': 1.0, 'pos': 0.0, 'compound...    0.0000  0.000  0.000   \n1  {'neg': 0.0, 'neu': 0.654, 'pos': 0.346, 'comp...    0.5719  0.346  0.000   \n2  {'neg': 0.192, 'neu': 0.728, 'pos': 0.08, 'com...   -0.5994  0.080  0.192   \n3  {'neg': 0.0, 'neu': 0.59, 'pos': 0.41, 'compou...    0.9153  0.410  0.000   \n4  {'neg': 0.0, 'neu': 1.0, 'pos': 0.0, 'compound...    0.0000  0.000  0.000   \n\n     neu     type                                 Preprocessed Tweet  \\\n0  1.000  NEUTRAL          intraday cycl result es_f spx spi sp http   \n1  0.654      POS          ask perfect monthli close spx spi sp http   \n2  0.728      NEG  parabol sar sta put onlin sp eurusd hangseng c...   \n3  0.590      POS  nasdaq trend dow trend sp trade sideway one ri...   \n4  1.000  NEUTRAL                              xbebbdcffdeadfacfbecd   \n\n     fb pos    fb neg    fb neu  \n0  0.049880  0.018428  0.931692  \n1  0.047117  0.027944  0.924939  \n2  0.093006  0.014138  0.892855  \n3  0.058029  0.023765  0.918206  \n4  0.062647  0.020080  0.917273  \n\n[5 rows x 24 columns]",
      "text/html": "<div>\n<style scoped>\n    .dataframe tbody tr th:only-of-type {\n        vertical-align: middle;\n    }\n\n    .dataframe tbody tr th {\n        vertical-align: top;\n    }\n\n    .dataframe thead th {\n        text-align: right;\n    }\n</style>\n<table border=\"1\" class=\"dataframe\">\n  <thead>\n    <tr style=\"text-align: right;\">\n      <th></th>\n      <th>UserId</th>\n      <th>UserName</th>\n      <th>Verified</th>\n      <th>Location</th>\n      <th>Followers</th>\n      <th>Tweet</th>\n      <th>Date</th>\n      <th>Retweeted</th>\n      <th>Language</th>\n      <th>Likes Count</th>\n      <th>...</th>\n      <th>scores</th>\n      <th>compound</th>\n      <th>pos</th>\n      <th>neg</th>\n      <th>neu</th>\n      <th>type</th>\n      <th>Preprocessed Tweet</th>\n      <th>fb pos</th>\n      <th>fb neg</th>\n      <th>fb neu</th>\n    </tr>\n  </thead>\n  <tbody>\n    <tr>\n      <th>0</th>\n      <td>1664015967280590849</td>\n      <td>TimeActionQuant</td>\n      <td>False</td>\n      <td>Nashville, TN</td>\n      <td>1158</td>\n      <td>Intraday Cycles - 05/31/2023 - Results!\\n\\n#ES...</td>\n      <td>2023-05-31 21:08:17+00:00</td>\n      <td>NaN</td>\n      <td>en</td>\n      <td>0</td>\n      <td>...</td>\n      <td>{'neg': 0.0, 'neu': 1.0, 'pos': 0.0, 'compound...</td>\n      <td>0.0000</td>\n      <td>0.000</td>\n      <td>0.000</td>\n      <td>1.000</td>\n      <td>NEUTRAL</td>\n      <td>intraday cycl result es_f spx spi sp http</td>\n      <td>0.049880</td>\n      <td>0.018428</td>\n      <td>0.931692</td>\n    </tr>\n    <tr>\n      <th>1</th>\n      <td>1664013296616259584</td>\n      <td>solrevived4real</td>\n      <td>False</td>\n      <td>NaN</td>\n      <td>91</td>\n      <td>couldn't have asked for a more perfect monthly...</td>\n      <td>2023-05-31 20:57:40+00:00</td>\n      <td>NaN</td>\n      <td>en</td>\n      <td>0</td>\n      <td>...</td>\n      <td>{'neg': 0.0, 'neu': 0.654, 'pos': 0.346, 'comp...</td>\n      <td>0.5719</td>\n      <td>0.346</td>\n      <td>0.000</td>\n      <td>0.654</td>\n      <td>POS</td>\n      <td>ask perfect monthli close spx spi sp http</td>\n      <td>0.047117</td>\n      <td>0.027944</td>\n      <td>0.924939</td>\n    </tr>\n    <tr>\n      <th>2</th>\n      <td>1664013202567446528</td>\n      <td>AnalyseBourses</td>\n      <td>False</td>\n      <td>New York Paris Hong Kong Tokyo</td>\n      <td>123</td>\n      <td>.\\n\\n#Parabolic SAR &amp;amp; STA for the 06/01 wa...</td>\n      <td>2023-05-31 20:57:18+00:00</td>\n      <td>NaN</td>\n      <td>en</td>\n      <td>0</td>\n      <td>...</td>\n      <td>{'neg': 0.192, 'neu': 0.728, 'pos': 0.08, 'com...</td>\n      <td>-0.5994</td>\n      <td>0.080</td>\n      <td>0.192</td>\n      <td>0.728</td>\n      <td>NEG</td>\n      <td>parabol sar sta put onlin sp eurusd hangseng c...</td>\n      <td>0.093006</td>\n      <td>0.014138</td>\n      <td>0.892855</td>\n    </tr>\n    <tr>\n      <th>3</th>\n      <td>1664011816089927685</td>\n      <td>DisfoldAI</td>\n      <td>False</td>\n      <td>Internet</td>\n      <td>12829</td>\n      <td>The #Nasdaq is trending up, the #Dow is trendi...</td>\n      <td>2023-05-31 20:51:47+00:00</td>\n      <td>NaN</td>\n      <td>en</td>\n      <td>0</td>\n      <td>...</td>\n      <td>{'neg': 0.0, 'neu': 0.59, 'pos': 0.41, 'compou...</td>\n      <td>0.9153</td>\n      <td>0.410</td>\n      <td>0.000</td>\n      <td>0.590</td>\n      <td>POS</td>\n      <td>nasdaq trend dow trend sp trade sideway one ri...</td>\n      <td>0.058029</td>\n      <td>0.023765</td>\n      <td>0.918206</td>\n    </tr>\n    <tr>\n      <th>4</th>\n      <td>1664010574517133312</td>\n      <td>sp500bullish</td>\n      <td>False</td>\n      <td>NaN</td>\n      <td>12</td>\n      <td>@ardizor 0xB7e6691Bb0D09C8F988fDea6D3f2a89cFbe...</td>\n      <td>2023-05-31 20:46:51+00:00</td>\n      <td>NaN</td>\n      <td>en</td>\n      <td>0</td>\n      <td>...</td>\n      <td>{'neg': 0.0, 'neu': 1.0, 'pos': 0.0, 'compound...</td>\n      <td>0.0000</td>\n      <td>0.000</td>\n      <td>0.000</td>\n      <td>1.000</td>\n      <td>NEUTRAL</td>\n      <td>xbebbdcffdeadfacfbecd</td>\n      <td>0.062647</td>\n      <td>0.020080</td>\n      <td>0.917273</td>\n    </tr>\n  </tbody>\n</table>\n<p>5 rows × 24 columns</p>\n</div>"
     },
     "execution_count": 3,
     "metadata": {},
     "output_type": "execute_result"
    }
   ],
   "source": [
    "tweets = pd.read_csv('data/all_tweets.csv')\n",
    "print(tweets.shape)\n",
    "tweets.head()"
   ],
   "metadata": {
    "collapsed": false
   }
  },
  {
   "cell_type": "markdown",
   "source": [
    "Define needed functions for preprocessing"
   ],
   "metadata": {
    "collapsed": false
   }
  },
  {
   "cell_type": "code",
   "execution_count": 4,
   "outputs": [],
   "source": [
    "\n",
    "def remove_hyperlinks(tweet):\n",
    "    # it will remove the old style retweet text \"RT\"\n",
    "    tweet2 = re.sub(r'^RT[\\s]+', '', tweet)\n",
    "\n",
    "    # it will remove hyperlinks\n",
    "    tweet2 = re.sub(r'https?:\\/\\/.*[\\r\\n]*', 'http', tweet2)\n",
    "\n",
    "    # it will remove hashtags. We have to be careful here not to remove\n",
    "    # the whole hashtag because text of hashtags contains huge information.\n",
    "    # only removing the hash # sign from the word\n",
    "    tweet2 = re.sub(r'#', '', tweet2)\n",
    "\n",
    "    # it will remove single numeric terms in the tweet.\n",
    "    tweet2 = re.sub(r'[0-9]', '', tweet2)\n",
    "\n",
    "    return tweet2\n"
   ],
   "metadata": {
    "collapsed": false
   }
  },
  {
   "cell_type": "code",
   "execution_count": 5,
   "outputs": [],
   "source": [
    "def tokenize(tweet):\n",
    "    # instantiate the tokenizer class\n",
    "    tokenizer = TweetTokenizer(preserve_case=False,\n",
    "                               strip_handles=True,\n",
    "                               reduce_len=True)\n",
    "\n",
    "    # tokenize the tweets\n",
    "    tweet_tokens = tokenizer.tokenize(tweet)\n",
    "    return tweet_tokens"
   ],
   "metadata": {
    "collapsed": false
   }
  },
  {
   "cell_type": "code",
   "execution_count": 6,
   "outputs": [],
   "source": [
    "def remove_stopwords(tweet_tokens):\n",
    "    stopwords_english = stopwords.words('english')\n",
    "    tweets_clean = []\n",
    "\n",
    "    for word in tweet_tokens: # Go through every word in your tokens list\n",
    "        if (word not in stopwords_english and  # remove stopwords\n",
    "                word not in string.punctuation):  # remove punctuation\n",
    "            tweets_clean.append(word)\n",
    "    return tweets_clean"
   ],
   "metadata": {
    "collapsed": false
   }
  },
  {
   "cell_type": "code",
   "execution_count": 7,
   "outputs": [],
   "source": [
    "def stemming(tweet_tokens):\n",
    "    # Instantiate stemming class\n",
    "    stemmer = PorterStemmer()\n",
    "\n",
    "    # Create an empty list to store the stems\n",
    "    tweets_stem = []\n",
    "\n",
    "    for word in tweet_tokens:\n",
    "        stem_word = stemmer.stem(word)  # stemming word\n",
    "        tweets_stem.append(stem_word)  # append to the list\n",
    "\n",
    "    return tweets_stem"
   ],
   "metadata": {
    "collapsed": false
   }
  },
  {
   "cell_type": "code",
   "execution_count": 8,
   "outputs": [],
   "source": [
    "def preprocess(tweet):\n",
    "    tweet = remove_hyperlinks(tweet)\n",
    "    tweet_tokens = tokenize(tweet)\n",
    "    tweet_tokens = remove_stopwords(tweet_tokens)\n",
    "    tweet_tokens = stemming(tweet_tokens)\n",
    "    return \" \".join(tweet_tokens)"
   ],
   "metadata": {
    "collapsed": false
   }
  },
  {
   "cell_type": "markdown",
   "source": [
    "VADER sentiment analysis"
   ],
   "metadata": {
    "collapsed": false
   }
  },
  {
   "cell_type": "code",
   "execution_count": 9,
   "outputs": [],
   "source": [
    "#creating an object of sentiment intensity analyzer (VADER)\n",
    "sia= SentimentIntensityAnalyzer()"
   ],
   "metadata": {
    "collapsed": false
   }
  },
  {
   "cell_type": "code",
   "execution_count": 10,
   "outputs": [],
   "source": [
    "# augmenting VADER vocab with financial terms\n",
    "\n",
    "positive_words='buy bull long support undervalued underpriced cheap upward rising trend moon rocket hold breakout call beat support buying holding high profit moon'\n",
    "negative_words='sell bear bubble bearish short overvalued overbought overpriced expensive downward falling sold sell low put miss resistance squeeze cover seller '\n",
    "\n",
    "dictOfpos = { i : 4 for i in positive_words.split(\" \") }\n",
    "dictOfneg = { i : -4 for i in negative_words.split(\" \")  }\n",
    "Financial_Lexicon = {**dictOfpos, **dictOfneg}\n",
    "\n",
    "sia.lexicon.update(Financial_Lexicon)"
   ],
   "metadata": {
    "collapsed": false
   }
  },
  {
   "cell_type": "code",
   "execution_count": 11,
   "outputs": [
    {
     "data": {
      "text/plain": "                UserId       UserName  Verified Location  Followers  \\\n0  1663621305269121028  CryptoTreeMap     False      NaN        443   \n1  1663591110063554562  CryptoTreeMap     False      NaN        443   \n2  1663560911146348547  CryptoTreeMap     False      NaN        443   \n3  1663133044235018240   hard2predict     False      NaN        438   \n4  1663056745596608514      TanArrowz     False      NaN       1933   \n\n                                               Tweet  \\\n0  https://t.co/t6kVcSK6IH\\n\\nStock market:\\n$QCO...   \n1  https://t.co/t6kVcSK6IH\\n\\nStock market:\\n$QCO...   \n2  https://t.co/t6kVcSKEyf\\n\\nStock market:\\n$AVG...   \n3  De siste 30 år (1990-2020) ble all vekst i det...   \n4  GS: China’s online gaming market is dominated ...   \n\n                        Date  Retweeted Language  Likes Count  \\\n0  2023-05-30 19:00:02+00:00        NaN       en            0   \n1  2023-05-30 17:00:03+00:00        NaN       en            0   \n2  2023-05-30 15:00:03+00:00        NaN       en            1   \n3  2023-05-29 10:39:51+00:00        NaN       no            0   \n4  2023-05-29 05:36:40+00:00        NaN       en            3   \n\n   Retweeted Count  Replied Count  Quoted Count Hashtag  \\\n0                0              0             0  #TCEHY   \n1                0              0             0  #TCEHY   \n2                0              0             0  #TCEHY   \n3                0              0             0  #TCEHY   \n4                0              0             0  #TCEHY   \n\n                                              scores  \n0  {'neg': 0.0, 'neu': 1.0, 'pos': 0.0, 'compound...  \n1  {'neg': 0.0, 'neu': 1.0, 'pos': 0.0, 'compound...  \n2  {'neg': 0.0, 'neu': 1.0, 'pos': 0.0, 'compound...  \n3  {'neg': 0.0, 'neu': 1.0, 'pos': 0.0, 'compound...  \n4  {'neg': 0.0, 'neu': 0.725, 'pos': 0.275, 'comp...  ",
      "text/html": "<div>\n<style scoped>\n    .dataframe tbody tr th:only-of-type {\n        vertical-align: middle;\n    }\n\n    .dataframe tbody tr th {\n        vertical-align: top;\n    }\n\n    .dataframe thead th {\n        text-align: right;\n    }\n</style>\n<table border=\"1\" class=\"dataframe\">\n  <thead>\n    <tr style=\"text-align: right;\">\n      <th></th>\n      <th>UserId</th>\n      <th>UserName</th>\n      <th>Verified</th>\n      <th>Location</th>\n      <th>Followers</th>\n      <th>Tweet</th>\n      <th>Date</th>\n      <th>Retweeted</th>\n      <th>Language</th>\n      <th>Likes Count</th>\n      <th>Retweeted Count</th>\n      <th>Replied Count</th>\n      <th>Quoted Count</th>\n      <th>Hashtag</th>\n      <th>scores</th>\n    </tr>\n  </thead>\n  <tbody>\n    <tr>\n      <th>0</th>\n      <td>1663621305269121028</td>\n      <td>CryptoTreeMap</td>\n      <td>False</td>\n      <td>NaN</td>\n      <td>443</td>\n      <td>https://t.co/t6kVcSK6IH\\n\\nStock market:\\n$QCO...</td>\n      <td>2023-05-30 19:00:02+00:00</td>\n      <td>NaN</td>\n      <td>en</td>\n      <td>0</td>\n      <td>0</td>\n      <td>0</td>\n      <td>0</td>\n      <td>#TCEHY</td>\n      <td>{'neg': 0.0, 'neu': 1.0, 'pos': 0.0, 'compound...</td>\n    </tr>\n    <tr>\n      <th>1</th>\n      <td>1663591110063554562</td>\n      <td>CryptoTreeMap</td>\n      <td>False</td>\n      <td>NaN</td>\n      <td>443</td>\n      <td>https://t.co/t6kVcSK6IH\\n\\nStock market:\\n$QCO...</td>\n      <td>2023-05-30 17:00:03+00:00</td>\n      <td>NaN</td>\n      <td>en</td>\n      <td>0</td>\n      <td>0</td>\n      <td>0</td>\n      <td>0</td>\n      <td>#TCEHY</td>\n      <td>{'neg': 0.0, 'neu': 1.0, 'pos': 0.0, 'compound...</td>\n    </tr>\n    <tr>\n      <th>2</th>\n      <td>1663560911146348547</td>\n      <td>CryptoTreeMap</td>\n      <td>False</td>\n      <td>NaN</td>\n      <td>443</td>\n      <td>https://t.co/t6kVcSKEyf\\n\\nStock market:\\n$AVG...</td>\n      <td>2023-05-30 15:00:03+00:00</td>\n      <td>NaN</td>\n      <td>en</td>\n      <td>1</td>\n      <td>0</td>\n      <td>0</td>\n      <td>0</td>\n      <td>#TCEHY</td>\n      <td>{'neg': 0.0, 'neu': 1.0, 'pos': 0.0, 'compound...</td>\n    </tr>\n    <tr>\n      <th>3</th>\n      <td>1663133044235018240</td>\n      <td>hard2predict</td>\n      <td>False</td>\n      <td>NaN</td>\n      <td>438</td>\n      <td>De siste 30 år (1990-2020) ble all vekst i det...</td>\n      <td>2023-05-29 10:39:51+00:00</td>\n      <td>NaN</td>\n      <td>no</td>\n      <td>0</td>\n      <td>0</td>\n      <td>0</td>\n      <td>0</td>\n      <td>#TCEHY</td>\n      <td>{'neg': 0.0, 'neu': 1.0, 'pos': 0.0, 'compound...</td>\n    </tr>\n    <tr>\n      <th>4</th>\n      <td>1663056745596608514</td>\n      <td>TanArrowz</td>\n      <td>False</td>\n      <td>NaN</td>\n      <td>1933</td>\n      <td>GS: China’s online gaming market is dominated ...</td>\n      <td>2023-05-29 05:36:40+00:00</td>\n      <td>NaN</td>\n      <td>en</td>\n      <td>3</td>\n      <td>0</td>\n      <td>0</td>\n      <td>0</td>\n      <td>#TCEHY</td>\n      <td>{'neg': 0.0, 'neu': 0.725, 'pos': 0.275, 'comp...</td>\n    </tr>\n  </tbody>\n</table>\n</div>"
     },
     "execution_count": 11,
     "metadata": {},
     "output_type": "execute_result"
    }
   ],
   "source": [
    "#creating new column scores using polarity scores function\n",
    "tweets['scores']=tweets['Tweet'].apply(lambda tweet: sia.polarity_scores(preprocess(tweet)))\n",
    "tweets.head()"
   ],
   "metadata": {
    "collapsed": false
   }
  },
  {
   "cell_type": "code",
   "execution_count": 12,
   "outputs": [
    {
     "data": {
      "text/plain": "                 UserId         UserName  Verified              Location  \\\n0   1663621305269121028    CryptoTreeMap     False                   NaN   \n1   1663591110063554562    CryptoTreeMap     False                   NaN   \n2   1663560911146348547    CryptoTreeMap     False                   NaN   \n3   1663133044235018240     hard2predict     False                   NaN   \n4   1663056745596608514        TanArrowz     False                   NaN   \n5   1661613875442098179         VivaPost     False            World wide   \n6   1660710766251737090    eastwest_conn     False                   NaN   \n7   1660692003431108608    CryptoTreeMap     False                   NaN   \n8   1660661806795300864    CryptoTreeMap     False                   NaN   \n9   1659272657894875137    CryptoTreeMap     False                   NaN   \n10  1659242452987805725    CryptoTreeMap     False                   NaN   \n11  1659212259573526530    CryptoTreeMap     False                   NaN   \n12  1659143732384477184  InversorValenc1     False                   NaN   \n13  1658893358255726592   precioobjetivo     False                   NaN   \n14  1658882605176041472     proactive_UK     False       London, England   \n15  1658701087266816000   financialsooth     False  Melbourne, Australia   \n16  1658402505062006784       SeleneAlgo     False            Everywhere   \n17  1658185490237906954    CryptoTreeMap     False                   NaN   \n18  1658164225368285212    CryptoTreeMap     False                   NaN   \n19  1656248580494053380   financialsooth     False  Melbourne, Australia   \n\n    Followers                                              Tweet  \\\n0         443  https://t.co/t6kVcSK6IH\\n\\nStock market:\\n$QCO...   \n1         443  https://t.co/t6kVcSK6IH\\n\\nStock market:\\n$QCO...   \n2         443  https://t.co/t6kVcSKEyf\\n\\nStock market:\\n$AVG...   \n3         438  De siste 30 år (1990-2020) ble all vekst i det...   \n4        1933  GS: China’s online gaming market is dominated ...   \n5         357  It seems that Chinese tech stocks are less des...   \n6         318  Tencent Holdings: spent HK$350 million and rep...   \n7         443  https://t.co/t6kVcSK6IH\\n\\nStock market:\\n$PFE...   \n8         443  https://t.co/t6kVcSK6IH\\n\\nStock market:\\n$TCE...   \n9         443  https://t.co/t6kVcSK6IH\\n\\nStock market:\\n$NFL...   \n10        443  https://t.co/t6kVcSK6IH\\n\\nStock market:\\n$NFL...   \n11        443  https://t.co/t6kVcSKEyf\\n\\nStock market:\\n$NFL...   \n12        635  $TCEHY #TCEHY @TencentGlobal buenos resultados...   \n13       2472  #TCEHY #Tencent 🇨🇳 \\n\\nResultados 1T 2023 vs 1...   \n14      28302  $0700 Tencent Holdings 1Q revenue beats; profi...   \n15       5005  ? #TCEHY #BABA\\nTencent will reduce prices for...   \n16       2485  🔥 Realtime AI News Scanner 🔥\\n🔗 https://t.co/i...   \n17        443  https://t.co/t6kVcSK6IH\\n\\nStock market:\\n$601...   \n18        443  https://t.co/t6kVcSK6IH\\n\\nStock market:\\n$601...   \n19       5005  🇨🇳 #TCEHY #BIGDATA\\nTencent will build in Chin...   \n\n                         Date  Retweeted Language  Likes Count  \\\n0   2023-05-30 19:00:02+00:00        NaN       en            0   \n1   2023-05-30 17:00:03+00:00        NaN       en            0   \n2   2023-05-30 15:00:03+00:00        NaN       en            1   \n3   2023-05-29 10:39:51+00:00        NaN       no            0   \n4   2023-05-29 05:36:40+00:00        NaN       en            3   \n5   2023-05-25 06:03:13+00:00        NaN       en            0   \n6   2023-05-22 18:14:35+00:00        NaN       en            0   \n7   2023-05-22 17:00:02+00:00        NaN       en            0   \n8   2023-05-22 15:00:03+00:00        NaN       en            0   \n9   2023-05-18 19:00:04+00:00        NaN       en            1   \n10  2023-05-18 17:00:02+00:00        NaN       en            1   \n11  2023-05-18 15:00:04+00:00        NaN       et            0   \n12  2023-05-18 10:27:45+00:00        NaN       es            1   \n13  2023-05-17 17:52:52+00:00        NaN       es            1   \n14  2023-05-17 17:10:08+00:00        NaN       en            2   \n15  2023-05-17 05:08:51+00:00        NaN       en            0   \n16  2023-05-16 09:22:23+00:00        NaN       en            1   \n17  2023-05-15 19:00:03+00:00        NaN       et            0   \n18  2023-05-15 17:35:33+00:00        NaN       et            1   \n19  2023-05-10 10:43:27+00:00        NaN       en            0   \n\n    Retweeted Count  Replied Count  Quoted Count Hashtag  \\\n0                 0              0             0  #TCEHY   \n1                 0              0             0  #TCEHY   \n2                 0              0             0  #TCEHY   \n3                 0              0             0  #TCEHY   \n4                 0              0             0  #TCEHY   \n5                 0              0             0  #TCEHY   \n6                 0              0             0  #TCEHY   \n7                 0              0             0  #TCEHY   \n8                 0              0             0  #TCEHY   \n9                 0              0             0  #TCEHY   \n10                0              0             0  #TCEHY   \n11                0              0             0  #TCEHY   \n12                0              0             0  #TCEHY   \n13                1              0             0  #TCEHY   \n14                0              0             0  #TCEHY   \n15                0              1             0  #TCEHY   \n16                0              1             0  #TCEHY   \n17                0              0             0  #TCEHY   \n18                0              0             0  #TCEHY   \n19                0              0             0  #TCEHY   \n\n                                               scores  compound    pos    neg  \\\n0   {'neg': 0.0, 'neu': 1.0, 'pos': 0.0, 'compound...    0.0000  0.000  0.000   \n1   {'neg': 0.0, 'neu': 1.0, 'pos': 0.0, 'compound...    0.0000  0.000  0.000   \n2   {'neg': 0.0, 'neu': 1.0, 'pos': 0.0, 'compound...    0.0000  0.000  0.000   \n3   {'neg': 0.0, 'neu': 1.0, 'pos': 0.0, 'compound...    0.0000  0.000  0.000   \n4   {'neg': 0.0, 'neu': 0.725, 'pos': 0.275, 'comp...    0.6486  0.275  0.000   \n5   {'neg': 0.0, 'neu': 0.922, 'pos': 0.078, 'comp...    0.2960  0.078  0.000   \n6   {'neg': 0.0, 'neu': 0.581, 'pos': 0.419, 'comp...    0.8020  0.419  0.000   \n7   {'neg': 0.0, 'neu': 1.0, 'pos': 0.0, 'compound...    0.0000  0.000  0.000   \n8   {'neg': 0.0, 'neu': 1.0, 'pos': 0.0, 'compound...    0.0000  0.000  0.000   \n9   {'neg': 0.0, 'neu': 1.0, 'pos': 0.0, 'compound...    0.0000  0.000  0.000   \n10  {'neg': 0.0, 'neu': 1.0, 'pos': 0.0, 'compound...    0.0000  0.000  0.000   \n11  {'neg': 0.0, 'neu': 1.0, 'pos': 0.0, 'compound...    0.0000  0.000  0.000   \n12  {'neg': 0.0, 'neu': 1.0, 'pos': 0.0, 'compound...    0.0000  0.000  0.000   \n13  {'neg': 0.0, 'neu': 1.0, 'pos': 0.0, 'compound...    0.0000  0.000  0.000   \n14  {'neg': 0.185, 'neu': 0.259, 'pos': 0.556, 'co...    0.9001  0.556  0.185   \n15  {'neg': 0.0, 'neu': 1.0, 'pos': 0.0, 'compound...    0.0000  0.000  0.000   \n16  {'neg': 0.0, 'neu': 1.0, 'pos': 0.0, 'compound...    0.0000  0.000  0.000   \n17  {'neg': 0.0, 'neu': 1.0, 'pos': 0.0, 'compound...    0.0000  0.000  0.000   \n18  {'neg': 0.0, 'neu': 1.0, 'pos': 0.0, 'compound...    0.0000  0.000  0.000   \n19  {'neg': 0.0, 'neu': 1.0, 'pos': 0.0, 'compound...    0.0000  0.000  0.000   \n\n      neu  \n0   1.000  \n1   1.000  \n2   1.000  \n3   1.000  \n4   0.725  \n5   0.922  \n6   0.581  \n7   1.000  \n8   1.000  \n9   1.000  \n10  1.000  \n11  1.000  \n12  1.000  \n13  1.000  \n14  0.259  \n15  1.000  \n16  1.000  \n17  1.000  \n18  1.000  \n19  1.000  ",
      "text/html": "<div>\n<style scoped>\n    .dataframe tbody tr th:only-of-type {\n        vertical-align: middle;\n    }\n\n    .dataframe tbody tr th {\n        vertical-align: top;\n    }\n\n    .dataframe thead th {\n        text-align: right;\n    }\n</style>\n<table border=\"1\" class=\"dataframe\">\n  <thead>\n    <tr style=\"text-align: right;\">\n      <th></th>\n      <th>UserId</th>\n      <th>UserName</th>\n      <th>Verified</th>\n      <th>Location</th>\n      <th>Followers</th>\n      <th>Tweet</th>\n      <th>Date</th>\n      <th>Retweeted</th>\n      <th>Language</th>\n      <th>Likes Count</th>\n      <th>Retweeted Count</th>\n      <th>Replied Count</th>\n      <th>Quoted Count</th>\n      <th>Hashtag</th>\n      <th>scores</th>\n      <th>compound</th>\n      <th>pos</th>\n      <th>neg</th>\n      <th>neu</th>\n    </tr>\n  </thead>\n  <tbody>\n    <tr>\n      <th>0</th>\n      <td>1663621305269121028</td>\n      <td>CryptoTreeMap</td>\n      <td>False</td>\n      <td>NaN</td>\n      <td>443</td>\n      <td>https://t.co/t6kVcSK6IH\\n\\nStock market:\\n$QCO...</td>\n      <td>2023-05-30 19:00:02+00:00</td>\n      <td>NaN</td>\n      <td>en</td>\n      <td>0</td>\n      <td>0</td>\n      <td>0</td>\n      <td>0</td>\n      <td>#TCEHY</td>\n      <td>{'neg': 0.0, 'neu': 1.0, 'pos': 0.0, 'compound...</td>\n      <td>0.0000</td>\n      <td>0.000</td>\n      <td>0.000</td>\n      <td>1.000</td>\n    </tr>\n    <tr>\n      <th>1</th>\n      <td>1663591110063554562</td>\n      <td>CryptoTreeMap</td>\n      <td>False</td>\n      <td>NaN</td>\n      <td>443</td>\n      <td>https://t.co/t6kVcSK6IH\\n\\nStock market:\\n$QCO...</td>\n      <td>2023-05-30 17:00:03+00:00</td>\n      <td>NaN</td>\n      <td>en</td>\n      <td>0</td>\n      <td>0</td>\n      <td>0</td>\n      <td>0</td>\n      <td>#TCEHY</td>\n      <td>{'neg': 0.0, 'neu': 1.0, 'pos': 0.0, 'compound...</td>\n      <td>0.0000</td>\n      <td>0.000</td>\n      <td>0.000</td>\n      <td>1.000</td>\n    </tr>\n    <tr>\n      <th>2</th>\n      <td>1663560911146348547</td>\n      <td>CryptoTreeMap</td>\n      <td>False</td>\n      <td>NaN</td>\n      <td>443</td>\n      <td>https://t.co/t6kVcSKEyf\\n\\nStock market:\\n$AVG...</td>\n      <td>2023-05-30 15:00:03+00:00</td>\n      <td>NaN</td>\n      <td>en</td>\n      <td>1</td>\n      <td>0</td>\n      <td>0</td>\n      <td>0</td>\n      <td>#TCEHY</td>\n      <td>{'neg': 0.0, 'neu': 1.0, 'pos': 0.0, 'compound...</td>\n      <td>0.0000</td>\n      <td>0.000</td>\n      <td>0.000</td>\n      <td>1.000</td>\n    </tr>\n    <tr>\n      <th>3</th>\n      <td>1663133044235018240</td>\n      <td>hard2predict</td>\n      <td>False</td>\n      <td>NaN</td>\n      <td>438</td>\n      <td>De siste 30 år (1990-2020) ble all vekst i det...</td>\n      <td>2023-05-29 10:39:51+00:00</td>\n      <td>NaN</td>\n      <td>no</td>\n      <td>0</td>\n      <td>0</td>\n      <td>0</td>\n      <td>0</td>\n      <td>#TCEHY</td>\n      <td>{'neg': 0.0, 'neu': 1.0, 'pos': 0.0, 'compound...</td>\n      <td>0.0000</td>\n      <td>0.000</td>\n      <td>0.000</td>\n      <td>1.000</td>\n    </tr>\n    <tr>\n      <th>4</th>\n      <td>1663056745596608514</td>\n      <td>TanArrowz</td>\n      <td>False</td>\n      <td>NaN</td>\n      <td>1933</td>\n      <td>GS: China’s online gaming market is dominated ...</td>\n      <td>2023-05-29 05:36:40+00:00</td>\n      <td>NaN</td>\n      <td>en</td>\n      <td>3</td>\n      <td>0</td>\n      <td>0</td>\n      <td>0</td>\n      <td>#TCEHY</td>\n      <td>{'neg': 0.0, 'neu': 0.725, 'pos': 0.275, 'comp...</td>\n      <td>0.6486</td>\n      <td>0.275</td>\n      <td>0.000</td>\n      <td>0.725</td>\n    </tr>\n    <tr>\n      <th>5</th>\n      <td>1661613875442098179</td>\n      <td>VivaPost</td>\n      <td>False</td>\n      <td>World wide</td>\n      <td>357</td>\n      <td>It seems that Chinese tech stocks are less des...</td>\n      <td>2023-05-25 06:03:13+00:00</td>\n      <td>NaN</td>\n      <td>en</td>\n      <td>0</td>\n      <td>0</td>\n      <td>0</td>\n      <td>0</td>\n      <td>#TCEHY</td>\n      <td>{'neg': 0.0, 'neu': 0.922, 'pos': 0.078, 'comp...</td>\n      <td>0.2960</td>\n      <td>0.078</td>\n      <td>0.000</td>\n      <td>0.922</td>\n    </tr>\n    <tr>\n      <th>6</th>\n      <td>1660710766251737090</td>\n      <td>eastwest_conn</td>\n      <td>False</td>\n      <td>NaN</td>\n      <td>318</td>\n      <td>Tencent Holdings: spent HK$350 million and rep...</td>\n      <td>2023-05-22 18:14:35+00:00</td>\n      <td>NaN</td>\n      <td>en</td>\n      <td>0</td>\n      <td>0</td>\n      <td>0</td>\n      <td>0</td>\n      <td>#TCEHY</td>\n      <td>{'neg': 0.0, 'neu': 0.581, 'pos': 0.419, 'comp...</td>\n      <td>0.8020</td>\n      <td>0.419</td>\n      <td>0.000</td>\n      <td>0.581</td>\n    </tr>\n    <tr>\n      <th>7</th>\n      <td>1660692003431108608</td>\n      <td>CryptoTreeMap</td>\n      <td>False</td>\n      <td>NaN</td>\n      <td>443</td>\n      <td>https://t.co/t6kVcSK6IH\\n\\nStock market:\\n$PFE...</td>\n      <td>2023-05-22 17:00:02+00:00</td>\n      <td>NaN</td>\n      <td>en</td>\n      <td>0</td>\n      <td>0</td>\n      <td>0</td>\n      <td>0</td>\n      <td>#TCEHY</td>\n      <td>{'neg': 0.0, 'neu': 1.0, 'pos': 0.0, 'compound...</td>\n      <td>0.0000</td>\n      <td>0.000</td>\n      <td>0.000</td>\n      <td>1.000</td>\n    </tr>\n    <tr>\n      <th>8</th>\n      <td>1660661806795300864</td>\n      <td>CryptoTreeMap</td>\n      <td>False</td>\n      <td>NaN</td>\n      <td>443</td>\n      <td>https://t.co/t6kVcSK6IH\\n\\nStock market:\\n$TCE...</td>\n      <td>2023-05-22 15:00:03+00:00</td>\n      <td>NaN</td>\n      <td>en</td>\n      <td>0</td>\n      <td>0</td>\n      <td>0</td>\n      <td>0</td>\n      <td>#TCEHY</td>\n      <td>{'neg': 0.0, 'neu': 1.0, 'pos': 0.0, 'compound...</td>\n      <td>0.0000</td>\n      <td>0.000</td>\n      <td>0.000</td>\n      <td>1.000</td>\n    </tr>\n    <tr>\n      <th>9</th>\n      <td>1659272657894875137</td>\n      <td>CryptoTreeMap</td>\n      <td>False</td>\n      <td>NaN</td>\n      <td>443</td>\n      <td>https://t.co/t6kVcSK6IH\\n\\nStock market:\\n$NFL...</td>\n      <td>2023-05-18 19:00:04+00:00</td>\n      <td>NaN</td>\n      <td>en</td>\n      <td>1</td>\n      <td>0</td>\n      <td>0</td>\n      <td>0</td>\n      <td>#TCEHY</td>\n      <td>{'neg': 0.0, 'neu': 1.0, 'pos': 0.0, 'compound...</td>\n      <td>0.0000</td>\n      <td>0.000</td>\n      <td>0.000</td>\n      <td>1.000</td>\n    </tr>\n    <tr>\n      <th>10</th>\n      <td>1659242452987805725</td>\n      <td>CryptoTreeMap</td>\n      <td>False</td>\n      <td>NaN</td>\n      <td>443</td>\n      <td>https://t.co/t6kVcSK6IH\\n\\nStock market:\\n$NFL...</td>\n      <td>2023-05-18 17:00:02+00:00</td>\n      <td>NaN</td>\n      <td>en</td>\n      <td>1</td>\n      <td>0</td>\n      <td>0</td>\n      <td>0</td>\n      <td>#TCEHY</td>\n      <td>{'neg': 0.0, 'neu': 1.0, 'pos': 0.0, 'compound...</td>\n      <td>0.0000</td>\n      <td>0.000</td>\n      <td>0.000</td>\n      <td>1.000</td>\n    </tr>\n    <tr>\n      <th>11</th>\n      <td>1659212259573526530</td>\n      <td>CryptoTreeMap</td>\n      <td>False</td>\n      <td>NaN</td>\n      <td>443</td>\n      <td>https://t.co/t6kVcSKEyf\\n\\nStock market:\\n$NFL...</td>\n      <td>2023-05-18 15:00:04+00:00</td>\n      <td>NaN</td>\n      <td>et</td>\n      <td>0</td>\n      <td>0</td>\n      <td>0</td>\n      <td>0</td>\n      <td>#TCEHY</td>\n      <td>{'neg': 0.0, 'neu': 1.0, 'pos': 0.0, 'compound...</td>\n      <td>0.0000</td>\n      <td>0.000</td>\n      <td>0.000</td>\n      <td>1.000</td>\n    </tr>\n    <tr>\n      <th>12</th>\n      <td>1659143732384477184</td>\n      <td>InversorValenc1</td>\n      <td>False</td>\n      <td>NaN</td>\n      <td>635</td>\n      <td>$TCEHY #TCEHY @TencentGlobal buenos resultados...</td>\n      <td>2023-05-18 10:27:45+00:00</td>\n      <td>NaN</td>\n      <td>es</td>\n      <td>1</td>\n      <td>0</td>\n      <td>0</td>\n      <td>0</td>\n      <td>#TCEHY</td>\n      <td>{'neg': 0.0, 'neu': 1.0, 'pos': 0.0, 'compound...</td>\n      <td>0.0000</td>\n      <td>0.000</td>\n      <td>0.000</td>\n      <td>1.000</td>\n    </tr>\n    <tr>\n      <th>13</th>\n      <td>1658893358255726592</td>\n      <td>precioobjetivo</td>\n      <td>False</td>\n      <td>NaN</td>\n      <td>2472</td>\n      <td>#TCEHY #Tencent 🇨🇳 \\n\\nResultados 1T 2023 vs 1...</td>\n      <td>2023-05-17 17:52:52+00:00</td>\n      <td>NaN</td>\n      <td>es</td>\n      <td>1</td>\n      <td>1</td>\n      <td>0</td>\n      <td>0</td>\n      <td>#TCEHY</td>\n      <td>{'neg': 0.0, 'neu': 1.0, 'pos': 0.0, 'compound...</td>\n      <td>0.0000</td>\n      <td>0.000</td>\n      <td>0.000</td>\n      <td>1.000</td>\n    </tr>\n    <tr>\n      <th>14</th>\n      <td>1658882605176041472</td>\n      <td>proactive_UK</td>\n      <td>False</td>\n      <td>London, England</td>\n      <td>28302</td>\n      <td>$0700 Tencent Holdings 1Q revenue beats; profi...</td>\n      <td>2023-05-17 17:10:08+00:00</td>\n      <td>NaN</td>\n      <td>en</td>\n      <td>2</td>\n      <td>0</td>\n      <td>0</td>\n      <td>0</td>\n      <td>#TCEHY</td>\n      <td>{'neg': 0.185, 'neu': 0.259, 'pos': 0.556, 'co...</td>\n      <td>0.9001</td>\n      <td>0.556</td>\n      <td>0.185</td>\n      <td>0.259</td>\n    </tr>\n    <tr>\n      <th>15</th>\n      <td>1658701087266816000</td>\n      <td>financialsooth</td>\n      <td>False</td>\n      <td>Melbourne, Australia</td>\n      <td>5005</td>\n      <td>? #TCEHY #BABA\\nTencent will reduce prices for...</td>\n      <td>2023-05-17 05:08:51+00:00</td>\n      <td>NaN</td>\n      <td>en</td>\n      <td>0</td>\n      <td>0</td>\n      <td>1</td>\n      <td>0</td>\n      <td>#TCEHY</td>\n      <td>{'neg': 0.0, 'neu': 1.0, 'pos': 0.0, 'compound...</td>\n      <td>0.0000</td>\n      <td>0.000</td>\n      <td>0.000</td>\n      <td>1.000</td>\n    </tr>\n    <tr>\n      <th>16</th>\n      <td>1658402505062006784</td>\n      <td>SeleneAlgo</td>\n      <td>False</td>\n      <td>Everywhere</td>\n      <td>2485</td>\n      <td>🔥 Realtime AI News Scanner 🔥\\n🔗 https://t.co/i...</td>\n      <td>2023-05-16 09:22:23+00:00</td>\n      <td>NaN</td>\n      <td>en</td>\n      <td>1</td>\n      <td>0</td>\n      <td>1</td>\n      <td>0</td>\n      <td>#TCEHY</td>\n      <td>{'neg': 0.0, 'neu': 1.0, 'pos': 0.0, 'compound...</td>\n      <td>0.0000</td>\n      <td>0.000</td>\n      <td>0.000</td>\n      <td>1.000</td>\n    </tr>\n    <tr>\n      <th>17</th>\n      <td>1658185490237906954</td>\n      <td>CryptoTreeMap</td>\n      <td>False</td>\n      <td>NaN</td>\n      <td>443</td>\n      <td>https://t.co/t6kVcSK6IH\\n\\nStock market:\\n$601...</td>\n      <td>2023-05-15 19:00:03+00:00</td>\n      <td>NaN</td>\n      <td>et</td>\n      <td>0</td>\n      <td>0</td>\n      <td>0</td>\n      <td>0</td>\n      <td>#TCEHY</td>\n      <td>{'neg': 0.0, 'neu': 1.0, 'pos': 0.0, 'compound...</td>\n      <td>0.0000</td>\n      <td>0.000</td>\n      <td>0.000</td>\n      <td>1.000</td>\n    </tr>\n    <tr>\n      <th>18</th>\n      <td>1658164225368285212</td>\n      <td>CryptoTreeMap</td>\n      <td>False</td>\n      <td>NaN</td>\n      <td>443</td>\n      <td>https://t.co/t6kVcSK6IH\\n\\nStock market:\\n$601...</td>\n      <td>2023-05-15 17:35:33+00:00</td>\n      <td>NaN</td>\n      <td>et</td>\n      <td>1</td>\n      <td>0</td>\n      <td>0</td>\n      <td>0</td>\n      <td>#TCEHY</td>\n      <td>{'neg': 0.0, 'neu': 1.0, 'pos': 0.0, 'compound...</td>\n      <td>0.0000</td>\n      <td>0.000</td>\n      <td>0.000</td>\n      <td>1.000</td>\n    </tr>\n    <tr>\n      <th>19</th>\n      <td>1656248580494053380</td>\n      <td>financialsooth</td>\n      <td>False</td>\n      <td>Melbourne, Australia</td>\n      <td>5005</td>\n      <td>🇨🇳 #TCEHY #BIGDATA\\nTencent will build in Chin...</td>\n      <td>2023-05-10 10:43:27+00:00</td>\n      <td>NaN</td>\n      <td>en</td>\n      <td>0</td>\n      <td>0</td>\n      <td>0</td>\n      <td>0</td>\n      <td>#TCEHY</td>\n      <td>{'neg': 0.0, 'neu': 1.0, 'pos': 0.0, 'compound...</td>\n      <td>0.0000</td>\n      <td>0.000</td>\n      <td>0.000</td>\n      <td>1.000</td>\n    </tr>\n  </tbody>\n</table>\n</div>"
     },
     "execution_count": 12,
     "metadata": {},
     "output_type": "execute_result"
    }
   ],
   "source": [
    "#extracting specific score values\n",
    "tweets['compound']=tweets['scores'].apply(lambda score_dict:score_dict['compound'])\n",
    "tweets['pos']=tweets['scores'].apply(lambda pos_dict:pos_dict['pos'])\n",
    "tweets['neg']=tweets['scores'].apply(lambda neg_dict:neg_dict['neg'])\n",
    "tweets['neu']=tweets['scores'].apply(lambda neg_dict:neg_dict['neu'])\n",
    "\n",
    "tweets.head(20)"
   ],
   "metadata": {
    "collapsed": false
   }
  },
  {
   "cell_type": "code",
   "execution_count": 13,
   "outputs": [
    {
     "data": {
      "text/plain": "                 UserId         UserName  Verified              Location  \\\n0   1663621305269121028    CryptoTreeMap     False                   NaN   \n1   1663591110063554562    CryptoTreeMap     False                   NaN   \n2   1663560911146348547    CryptoTreeMap     False                   NaN   \n3   1663133044235018240     hard2predict     False                   NaN   \n4   1663056745596608514        TanArrowz     False                   NaN   \n5   1661613875442098179         VivaPost     False            World wide   \n6   1660710766251737090    eastwest_conn     False                   NaN   \n7   1660692003431108608    CryptoTreeMap     False                   NaN   \n8   1660661806795300864    CryptoTreeMap     False                   NaN   \n9   1659272657894875137    CryptoTreeMap     False                   NaN   \n10  1659242452987805725    CryptoTreeMap     False                   NaN   \n11  1659212259573526530    CryptoTreeMap     False                   NaN   \n12  1659143732384477184  InversorValenc1     False                   NaN   \n13  1658893358255726592   precioobjetivo     False                   NaN   \n14  1658882605176041472     proactive_UK     False       London, England   \n15  1658701087266816000   financialsooth     False  Melbourne, Australia   \n16  1658402505062006784       SeleneAlgo     False            Everywhere   \n17  1658185490237906954    CryptoTreeMap     False                   NaN   \n18  1658164225368285212    CryptoTreeMap     False                   NaN   \n19  1656248580494053380   financialsooth     False  Melbourne, Australia   \n\n    Followers                                              Tweet  \\\n0         443  https://t.co/t6kVcSK6IH\\n\\nStock market:\\n$QCO...   \n1         443  https://t.co/t6kVcSK6IH\\n\\nStock market:\\n$QCO...   \n2         443  https://t.co/t6kVcSKEyf\\n\\nStock market:\\n$AVG...   \n3         438  De siste 30 år (1990-2020) ble all vekst i det...   \n4        1933  GS: China’s online gaming market is dominated ...   \n5         357  It seems that Chinese tech stocks are less des...   \n6         318  Tencent Holdings: spent HK$350 million and rep...   \n7         443  https://t.co/t6kVcSK6IH\\n\\nStock market:\\n$PFE...   \n8         443  https://t.co/t6kVcSK6IH\\n\\nStock market:\\n$TCE...   \n9         443  https://t.co/t6kVcSK6IH\\n\\nStock market:\\n$NFL...   \n10        443  https://t.co/t6kVcSK6IH\\n\\nStock market:\\n$NFL...   \n11        443  https://t.co/t6kVcSKEyf\\n\\nStock market:\\n$NFL...   \n12        635  $TCEHY #TCEHY @TencentGlobal buenos resultados...   \n13       2472  #TCEHY #Tencent 🇨🇳 \\n\\nResultados 1T 2023 vs 1...   \n14      28302  $0700 Tencent Holdings 1Q revenue beats; profi...   \n15       5005  ? #TCEHY #BABA\\nTencent will reduce prices for...   \n16       2485  🔥 Realtime AI News Scanner 🔥\\n🔗 https://t.co/i...   \n17        443  https://t.co/t6kVcSK6IH\\n\\nStock market:\\n$601...   \n18        443  https://t.co/t6kVcSK6IH\\n\\nStock market:\\n$601...   \n19       5005  🇨🇳 #TCEHY #BIGDATA\\nTencent will build in Chin...   \n\n                         Date  Retweeted Language  Likes Count  \\\n0   2023-05-30 19:00:02+00:00        NaN       en            0   \n1   2023-05-30 17:00:03+00:00        NaN       en            0   \n2   2023-05-30 15:00:03+00:00        NaN       en            1   \n3   2023-05-29 10:39:51+00:00        NaN       no            0   \n4   2023-05-29 05:36:40+00:00        NaN       en            3   \n5   2023-05-25 06:03:13+00:00        NaN       en            0   \n6   2023-05-22 18:14:35+00:00        NaN       en            0   \n7   2023-05-22 17:00:02+00:00        NaN       en            0   \n8   2023-05-22 15:00:03+00:00        NaN       en            0   \n9   2023-05-18 19:00:04+00:00        NaN       en            1   \n10  2023-05-18 17:00:02+00:00        NaN       en            1   \n11  2023-05-18 15:00:04+00:00        NaN       et            0   \n12  2023-05-18 10:27:45+00:00        NaN       es            1   \n13  2023-05-17 17:52:52+00:00        NaN       es            1   \n14  2023-05-17 17:10:08+00:00        NaN       en            2   \n15  2023-05-17 05:08:51+00:00        NaN       en            0   \n16  2023-05-16 09:22:23+00:00        NaN       en            1   \n17  2023-05-15 19:00:03+00:00        NaN       et            0   \n18  2023-05-15 17:35:33+00:00        NaN       et            1   \n19  2023-05-10 10:43:27+00:00        NaN       en            0   \n\n    Retweeted Count  Replied Count  Quoted Count Hashtag  \\\n0                 0              0             0  #TCEHY   \n1                 0              0             0  #TCEHY   \n2                 0              0             0  #TCEHY   \n3                 0              0             0  #TCEHY   \n4                 0              0             0  #TCEHY   \n5                 0              0             0  #TCEHY   \n6                 0              0             0  #TCEHY   \n7                 0              0             0  #TCEHY   \n8                 0              0             0  #TCEHY   \n9                 0              0             0  #TCEHY   \n10                0              0             0  #TCEHY   \n11                0              0             0  #TCEHY   \n12                0              0             0  #TCEHY   \n13                1              0             0  #TCEHY   \n14                0              0             0  #TCEHY   \n15                0              1             0  #TCEHY   \n16                0              1             0  #TCEHY   \n17                0              0             0  #TCEHY   \n18                0              0             0  #TCEHY   \n19                0              0             0  #TCEHY   \n\n                                               scores  compound    pos    neg  \\\n0   {'neg': 0.0, 'neu': 1.0, 'pos': 0.0, 'compound...    0.0000  0.000  0.000   \n1   {'neg': 0.0, 'neu': 1.0, 'pos': 0.0, 'compound...    0.0000  0.000  0.000   \n2   {'neg': 0.0, 'neu': 1.0, 'pos': 0.0, 'compound...    0.0000  0.000  0.000   \n3   {'neg': 0.0, 'neu': 1.0, 'pos': 0.0, 'compound...    0.0000  0.000  0.000   \n4   {'neg': 0.0, 'neu': 0.725, 'pos': 0.275, 'comp...    0.6486  0.275  0.000   \n5   {'neg': 0.0, 'neu': 0.922, 'pos': 0.078, 'comp...    0.2960  0.078  0.000   \n6   {'neg': 0.0, 'neu': 0.581, 'pos': 0.419, 'comp...    0.8020  0.419  0.000   \n7   {'neg': 0.0, 'neu': 1.0, 'pos': 0.0, 'compound...    0.0000  0.000  0.000   \n8   {'neg': 0.0, 'neu': 1.0, 'pos': 0.0, 'compound...    0.0000  0.000  0.000   \n9   {'neg': 0.0, 'neu': 1.0, 'pos': 0.0, 'compound...    0.0000  0.000  0.000   \n10  {'neg': 0.0, 'neu': 1.0, 'pos': 0.0, 'compound...    0.0000  0.000  0.000   \n11  {'neg': 0.0, 'neu': 1.0, 'pos': 0.0, 'compound...    0.0000  0.000  0.000   \n12  {'neg': 0.0, 'neu': 1.0, 'pos': 0.0, 'compound...    0.0000  0.000  0.000   \n13  {'neg': 0.0, 'neu': 1.0, 'pos': 0.0, 'compound...    0.0000  0.000  0.000   \n14  {'neg': 0.185, 'neu': 0.259, 'pos': 0.556, 'co...    0.9001  0.556  0.185   \n15  {'neg': 0.0, 'neu': 1.0, 'pos': 0.0, 'compound...    0.0000  0.000  0.000   \n16  {'neg': 0.0, 'neu': 1.0, 'pos': 0.0, 'compound...    0.0000  0.000  0.000   \n17  {'neg': 0.0, 'neu': 1.0, 'pos': 0.0, 'compound...    0.0000  0.000  0.000   \n18  {'neg': 0.0, 'neu': 1.0, 'pos': 0.0, 'compound...    0.0000  0.000  0.000   \n19  {'neg': 0.0, 'neu': 1.0, 'pos': 0.0, 'compound...    0.0000  0.000  0.000   \n\n      neu     type  \n0   1.000  NEUTRAL  \n1   1.000  NEUTRAL  \n2   1.000  NEUTRAL  \n3   1.000  NEUTRAL  \n4   0.725      POS  \n5   0.922      POS  \n6   0.581      POS  \n7   1.000  NEUTRAL  \n8   1.000  NEUTRAL  \n9   1.000  NEUTRAL  \n10  1.000  NEUTRAL  \n11  1.000  NEUTRAL  \n12  1.000  NEUTRAL  \n13  1.000  NEUTRAL  \n14  0.259      POS  \n15  1.000  NEUTRAL  \n16  1.000  NEUTRAL  \n17  1.000  NEUTRAL  \n18  1.000  NEUTRAL  \n19  1.000  NEUTRAL  ",
      "text/html": "<div>\n<style scoped>\n    .dataframe tbody tr th:only-of-type {\n        vertical-align: middle;\n    }\n\n    .dataframe tbody tr th {\n        vertical-align: top;\n    }\n\n    .dataframe thead th {\n        text-align: right;\n    }\n</style>\n<table border=\"1\" class=\"dataframe\">\n  <thead>\n    <tr style=\"text-align: right;\">\n      <th></th>\n      <th>UserId</th>\n      <th>UserName</th>\n      <th>Verified</th>\n      <th>Location</th>\n      <th>Followers</th>\n      <th>Tweet</th>\n      <th>Date</th>\n      <th>Retweeted</th>\n      <th>Language</th>\n      <th>Likes Count</th>\n      <th>Retweeted Count</th>\n      <th>Replied Count</th>\n      <th>Quoted Count</th>\n      <th>Hashtag</th>\n      <th>scores</th>\n      <th>compound</th>\n      <th>pos</th>\n      <th>neg</th>\n      <th>neu</th>\n      <th>type</th>\n    </tr>\n  </thead>\n  <tbody>\n    <tr>\n      <th>0</th>\n      <td>1663621305269121028</td>\n      <td>CryptoTreeMap</td>\n      <td>False</td>\n      <td>NaN</td>\n      <td>443</td>\n      <td>https://t.co/t6kVcSK6IH\\n\\nStock market:\\n$QCO...</td>\n      <td>2023-05-30 19:00:02+00:00</td>\n      <td>NaN</td>\n      <td>en</td>\n      <td>0</td>\n      <td>0</td>\n      <td>0</td>\n      <td>0</td>\n      <td>#TCEHY</td>\n      <td>{'neg': 0.0, 'neu': 1.0, 'pos': 0.0, 'compound...</td>\n      <td>0.0000</td>\n      <td>0.000</td>\n      <td>0.000</td>\n      <td>1.000</td>\n      <td>NEUTRAL</td>\n    </tr>\n    <tr>\n      <th>1</th>\n      <td>1663591110063554562</td>\n      <td>CryptoTreeMap</td>\n      <td>False</td>\n      <td>NaN</td>\n      <td>443</td>\n      <td>https://t.co/t6kVcSK6IH\\n\\nStock market:\\n$QCO...</td>\n      <td>2023-05-30 17:00:03+00:00</td>\n      <td>NaN</td>\n      <td>en</td>\n      <td>0</td>\n      <td>0</td>\n      <td>0</td>\n      <td>0</td>\n      <td>#TCEHY</td>\n      <td>{'neg': 0.0, 'neu': 1.0, 'pos': 0.0, 'compound...</td>\n      <td>0.0000</td>\n      <td>0.000</td>\n      <td>0.000</td>\n      <td>1.000</td>\n      <td>NEUTRAL</td>\n    </tr>\n    <tr>\n      <th>2</th>\n      <td>1663560911146348547</td>\n      <td>CryptoTreeMap</td>\n      <td>False</td>\n      <td>NaN</td>\n      <td>443</td>\n      <td>https://t.co/t6kVcSKEyf\\n\\nStock market:\\n$AVG...</td>\n      <td>2023-05-30 15:00:03+00:00</td>\n      <td>NaN</td>\n      <td>en</td>\n      <td>1</td>\n      <td>0</td>\n      <td>0</td>\n      <td>0</td>\n      <td>#TCEHY</td>\n      <td>{'neg': 0.0, 'neu': 1.0, 'pos': 0.0, 'compound...</td>\n      <td>0.0000</td>\n      <td>0.000</td>\n      <td>0.000</td>\n      <td>1.000</td>\n      <td>NEUTRAL</td>\n    </tr>\n    <tr>\n      <th>3</th>\n      <td>1663133044235018240</td>\n      <td>hard2predict</td>\n      <td>False</td>\n      <td>NaN</td>\n      <td>438</td>\n      <td>De siste 30 år (1990-2020) ble all vekst i det...</td>\n      <td>2023-05-29 10:39:51+00:00</td>\n      <td>NaN</td>\n      <td>no</td>\n      <td>0</td>\n      <td>0</td>\n      <td>0</td>\n      <td>0</td>\n      <td>#TCEHY</td>\n      <td>{'neg': 0.0, 'neu': 1.0, 'pos': 0.0, 'compound...</td>\n      <td>0.0000</td>\n      <td>0.000</td>\n      <td>0.000</td>\n      <td>1.000</td>\n      <td>NEUTRAL</td>\n    </tr>\n    <tr>\n      <th>4</th>\n      <td>1663056745596608514</td>\n      <td>TanArrowz</td>\n      <td>False</td>\n      <td>NaN</td>\n      <td>1933</td>\n      <td>GS: China’s online gaming market is dominated ...</td>\n      <td>2023-05-29 05:36:40+00:00</td>\n      <td>NaN</td>\n      <td>en</td>\n      <td>3</td>\n      <td>0</td>\n      <td>0</td>\n      <td>0</td>\n      <td>#TCEHY</td>\n      <td>{'neg': 0.0, 'neu': 0.725, 'pos': 0.275, 'comp...</td>\n      <td>0.6486</td>\n      <td>0.275</td>\n      <td>0.000</td>\n      <td>0.725</td>\n      <td>POS</td>\n    </tr>\n    <tr>\n      <th>5</th>\n      <td>1661613875442098179</td>\n      <td>VivaPost</td>\n      <td>False</td>\n      <td>World wide</td>\n      <td>357</td>\n      <td>It seems that Chinese tech stocks are less des...</td>\n      <td>2023-05-25 06:03:13+00:00</td>\n      <td>NaN</td>\n      <td>en</td>\n      <td>0</td>\n      <td>0</td>\n      <td>0</td>\n      <td>0</td>\n      <td>#TCEHY</td>\n      <td>{'neg': 0.0, 'neu': 0.922, 'pos': 0.078, 'comp...</td>\n      <td>0.2960</td>\n      <td>0.078</td>\n      <td>0.000</td>\n      <td>0.922</td>\n      <td>POS</td>\n    </tr>\n    <tr>\n      <th>6</th>\n      <td>1660710766251737090</td>\n      <td>eastwest_conn</td>\n      <td>False</td>\n      <td>NaN</td>\n      <td>318</td>\n      <td>Tencent Holdings: spent HK$350 million and rep...</td>\n      <td>2023-05-22 18:14:35+00:00</td>\n      <td>NaN</td>\n      <td>en</td>\n      <td>0</td>\n      <td>0</td>\n      <td>0</td>\n      <td>0</td>\n      <td>#TCEHY</td>\n      <td>{'neg': 0.0, 'neu': 0.581, 'pos': 0.419, 'comp...</td>\n      <td>0.8020</td>\n      <td>0.419</td>\n      <td>0.000</td>\n      <td>0.581</td>\n      <td>POS</td>\n    </tr>\n    <tr>\n      <th>7</th>\n      <td>1660692003431108608</td>\n      <td>CryptoTreeMap</td>\n      <td>False</td>\n      <td>NaN</td>\n      <td>443</td>\n      <td>https://t.co/t6kVcSK6IH\\n\\nStock market:\\n$PFE...</td>\n      <td>2023-05-22 17:00:02+00:00</td>\n      <td>NaN</td>\n      <td>en</td>\n      <td>0</td>\n      <td>0</td>\n      <td>0</td>\n      <td>0</td>\n      <td>#TCEHY</td>\n      <td>{'neg': 0.0, 'neu': 1.0, 'pos': 0.0, 'compound...</td>\n      <td>0.0000</td>\n      <td>0.000</td>\n      <td>0.000</td>\n      <td>1.000</td>\n      <td>NEUTRAL</td>\n    </tr>\n    <tr>\n      <th>8</th>\n      <td>1660661806795300864</td>\n      <td>CryptoTreeMap</td>\n      <td>False</td>\n      <td>NaN</td>\n      <td>443</td>\n      <td>https://t.co/t6kVcSK6IH\\n\\nStock market:\\n$TCE...</td>\n      <td>2023-05-22 15:00:03+00:00</td>\n      <td>NaN</td>\n      <td>en</td>\n      <td>0</td>\n      <td>0</td>\n      <td>0</td>\n      <td>0</td>\n      <td>#TCEHY</td>\n      <td>{'neg': 0.0, 'neu': 1.0, 'pos': 0.0, 'compound...</td>\n      <td>0.0000</td>\n      <td>0.000</td>\n      <td>0.000</td>\n      <td>1.000</td>\n      <td>NEUTRAL</td>\n    </tr>\n    <tr>\n      <th>9</th>\n      <td>1659272657894875137</td>\n      <td>CryptoTreeMap</td>\n      <td>False</td>\n      <td>NaN</td>\n      <td>443</td>\n      <td>https://t.co/t6kVcSK6IH\\n\\nStock market:\\n$NFL...</td>\n      <td>2023-05-18 19:00:04+00:00</td>\n      <td>NaN</td>\n      <td>en</td>\n      <td>1</td>\n      <td>0</td>\n      <td>0</td>\n      <td>0</td>\n      <td>#TCEHY</td>\n      <td>{'neg': 0.0, 'neu': 1.0, 'pos': 0.0, 'compound...</td>\n      <td>0.0000</td>\n      <td>0.000</td>\n      <td>0.000</td>\n      <td>1.000</td>\n      <td>NEUTRAL</td>\n    </tr>\n    <tr>\n      <th>10</th>\n      <td>1659242452987805725</td>\n      <td>CryptoTreeMap</td>\n      <td>False</td>\n      <td>NaN</td>\n      <td>443</td>\n      <td>https://t.co/t6kVcSK6IH\\n\\nStock market:\\n$NFL...</td>\n      <td>2023-05-18 17:00:02+00:00</td>\n      <td>NaN</td>\n      <td>en</td>\n      <td>1</td>\n      <td>0</td>\n      <td>0</td>\n      <td>0</td>\n      <td>#TCEHY</td>\n      <td>{'neg': 0.0, 'neu': 1.0, 'pos': 0.0, 'compound...</td>\n      <td>0.0000</td>\n      <td>0.000</td>\n      <td>0.000</td>\n      <td>1.000</td>\n      <td>NEUTRAL</td>\n    </tr>\n    <tr>\n      <th>11</th>\n      <td>1659212259573526530</td>\n      <td>CryptoTreeMap</td>\n      <td>False</td>\n      <td>NaN</td>\n      <td>443</td>\n      <td>https://t.co/t6kVcSKEyf\\n\\nStock market:\\n$NFL...</td>\n      <td>2023-05-18 15:00:04+00:00</td>\n      <td>NaN</td>\n      <td>et</td>\n      <td>0</td>\n      <td>0</td>\n      <td>0</td>\n      <td>0</td>\n      <td>#TCEHY</td>\n      <td>{'neg': 0.0, 'neu': 1.0, 'pos': 0.0, 'compound...</td>\n      <td>0.0000</td>\n      <td>0.000</td>\n      <td>0.000</td>\n      <td>1.000</td>\n      <td>NEUTRAL</td>\n    </tr>\n    <tr>\n      <th>12</th>\n      <td>1659143732384477184</td>\n      <td>InversorValenc1</td>\n      <td>False</td>\n      <td>NaN</td>\n      <td>635</td>\n      <td>$TCEHY #TCEHY @TencentGlobal buenos resultados...</td>\n      <td>2023-05-18 10:27:45+00:00</td>\n      <td>NaN</td>\n      <td>es</td>\n      <td>1</td>\n      <td>0</td>\n      <td>0</td>\n      <td>0</td>\n      <td>#TCEHY</td>\n      <td>{'neg': 0.0, 'neu': 1.0, 'pos': 0.0, 'compound...</td>\n      <td>0.0000</td>\n      <td>0.000</td>\n      <td>0.000</td>\n      <td>1.000</td>\n      <td>NEUTRAL</td>\n    </tr>\n    <tr>\n      <th>13</th>\n      <td>1658893358255726592</td>\n      <td>precioobjetivo</td>\n      <td>False</td>\n      <td>NaN</td>\n      <td>2472</td>\n      <td>#TCEHY #Tencent 🇨🇳 \\n\\nResultados 1T 2023 vs 1...</td>\n      <td>2023-05-17 17:52:52+00:00</td>\n      <td>NaN</td>\n      <td>es</td>\n      <td>1</td>\n      <td>1</td>\n      <td>0</td>\n      <td>0</td>\n      <td>#TCEHY</td>\n      <td>{'neg': 0.0, 'neu': 1.0, 'pos': 0.0, 'compound...</td>\n      <td>0.0000</td>\n      <td>0.000</td>\n      <td>0.000</td>\n      <td>1.000</td>\n      <td>NEUTRAL</td>\n    </tr>\n    <tr>\n      <th>14</th>\n      <td>1658882605176041472</td>\n      <td>proactive_UK</td>\n      <td>False</td>\n      <td>London, England</td>\n      <td>28302</td>\n      <td>$0700 Tencent Holdings 1Q revenue beats; profi...</td>\n      <td>2023-05-17 17:10:08+00:00</td>\n      <td>NaN</td>\n      <td>en</td>\n      <td>2</td>\n      <td>0</td>\n      <td>0</td>\n      <td>0</td>\n      <td>#TCEHY</td>\n      <td>{'neg': 0.185, 'neu': 0.259, 'pos': 0.556, 'co...</td>\n      <td>0.9001</td>\n      <td>0.556</td>\n      <td>0.185</td>\n      <td>0.259</td>\n      <td>POS</td>\n    </tr>\n    <tr>\n      <th>15</th>\n      <td>1658701087266816000</td>\n      <td>financialsooth</td>\n      <td>False</td>\n      <td>Melbourne, Australia</td>\n      <td>5005</td>\n      <td>? #TCEHY #BABA\\nTencent will reduce prices for...</td>\n      <td>2023-05-17 05:08:51+00:00</td>\n      <td>NaN</td>\n      <td>en</td>\n      <td>0</td>\n      <td>0</td>\n      <td>1</td>\n      <td>0</td>\n      <td>#TCEHY</td>\n      <td>{'neg': 0.0, 'neu': 1.0, 'pos': 0.0, 'compound...</td>\n      <td>0.0000</td>\n      <td>0.000</td>\n      <td>0.000</td>\n      <td>1.000</td>\n      <td>NEUTRAL</td>\n    </tr>\n    <tr>\n      <th>16</th>\n      <td>1658402505062006784</td>\n      <td>SeleneAlgo</td>\n      <td>False</td>\n      <td>Everywhere</td>\n      <td>2485</td>\n      <td>🔥 Realtime AI News Scanner 🔥\\n🔗 https://t.co/i...</td>\n      <td>2023-05-16 09:22:23+00:00</td>\n      <td>NaN</td>\n      <td>en</td>\n      <td>1</td>\n      <td>0</td>\n      <td>1</td>\n      <td>0</td>\n      <td>#TCEHY</td>\n      <td>{'neg': 0.0, 'neu': 1.0, 'pos': 0.0, 'compound...</td>\n      <td>0.0000</td>\n      <td>0.000</td>\n      <td>0.000</td>\n      <td>1.000</td>\n      <td>NEUTRAL</td>\n    </tr>\n    <tr>\n      <th>17</th>\n      <td>1658185490237906954</td>\n      <td>CryptoTreeMap</td>\n      <td>False</td>\n      <td>NaN</td>\n      <td>443</td>\n      <td>https://t.co/t6kVcSK6IH\\n\\nStock market:\\n$601...</td>\n      <td>2023-05-15 19:00:03+00:00</td>\n      <td>NaN</td>\n      <td>et</td>\n      <td>0</td>\n      <td>0</td>\n      <td>0</td>\n      <td>0</td>\n      <td>#TCEHY</td>\n      <td>{'neg': 0.0, 'neu': 1.0, 'pos': 0.0, 'compound...</td>\n      <td>0.0000</td>\n      <td>0.000</td>\n      <td>0.000</td>\n      <td>1.000</td>\n      <td>NEUTRAL</td>\n    </tr>\n    <tr>\n      <th>18</th>\n      <td>1658164225368285212</td>\n      <td>CryptoTreeMap</td>\n      <td>False</td>\n      <td>NaN</td>\n      <td>443</td>\n      <td>https://t.co/t6kVcSK6IH\\n\\nStock market:\\n$601...</td>\n      <td>2023-05-15 17:35:33+00:00</td>\n      <td>NaN</td>\n      <td>et</td>\n      <td>1</td>\n      <td>0</td>\n      <td>0</td>\n      <td>0</td>\n      <td>#TCEHY</td>\n      <td>{'neg': 0.0, 'neu': 1.0, 'pos': 0.0, 'compound...</td>\n      <td>0.0000</td>\n      <td>0.000</td>\n      <td>0.000</td>\n      <td>1.000</td>\n      <td>NEUTRAL</td>\n    </tr>\n    <tr>\n      <th>19</th>\n      <td>1656248580494053380</td>\n      <td>financialsooth</td>\n      <td>False</td>\n      <td>Melbourne, Australia</td>\n      <td>5005</td>\n      <td>🇨🇳 #TCEHY #BIGDATA\\nTencent will build in Chin...</td>\n      <td>2023-05-10 10:43:27+00:00</td>\n      <td>NaN</td>\n      <td>en</td>\n      <td>0</td>\n      <td>0</td>\n      <td>0</td>\n      <td>0</td>\n      <td>#TCEHY</td>\n      <td>{'neg': 0.0, 'neu': 1.0, 'pos': 0.0, 'compound...</td>\n      <td>0.0000</td>\n      <td>0.000</td>\n      <td>0.000</td>\n      <td>1.000</td>\n      <td>NEUTRAL</td>\n    </tr>\n  </tbody>\n</table>\n</div>"
     },
     "execution_count": 13,
     "metadata": {},
     "output_type": "execute_result"
    }
   ],
   "source": [
    "#classifying the tweets based on VADER scores\n",
    "tweets['type']=''\n",
    "tweets.loc[tweets.compound>0,'type']='POS'\n",
    "tweets.loc[tweets.compound==0,'type']='NEUTRAL'\n",
    "tweets.loc[tweets.compound<0,'type']='NEG'\n",
    "tweets.head(20)"
   ],
   "metadata": {
    "collapsed": false
   }
  },
  {
   "cell_type": "code",
   "execution_count": 14,
   "outputs": [],
   "source": [
    "#adding column to view preprocessed tweets\n",
    "tweets['Preprocessed Tweet'] = tweets['Tweet'].apply(lambda tweet: preprocess(tweet))"
   ],
   "metadata": {
    "collapsed": false
   }
  },
  {
   "cell_type": "markdown",
   "source": [
    "FINBERT sentiment analysis"
   ],
   "metadata": {
    "collapsed": false
   }
  },
  {
   "cell_type": "code",
   "execution_count": 11,
   "outputs": [],
   "source": [
    "finbert_tokenizer = AutoTokenizer.from_pretrained(\"ProsusAI/finbert\")\n",
    "finbert_model = AutoModelForSequenceClassification.from_pretrained(\"ProsusAI/finbert\")"
   ],
   "metadata": {
    "collapsed": false
   }
  },
  {
   "cell_type": "code",
   "execution_count": 30,
   "outputs": [],
   "source": [],
   "metadata": {
    "collapsed": false
   }
  },
  {
   "cell_type": "code",
   "execution_count": 12,
   "outputs": [],
   "source": [
    "def finbert_predict(tweet, tokenizer, model):\n",
    "    #tokenize text to be sent to model\n",
    "    inputs = tokenizer(tweet, padding = True, truncation = True, return_tensors='pt')\n",
    "    outputs = model(**inputs)\n",
    "\n",
    "    predictions = torch.nn.functional.softmax(outputs.logits, dim=-1)\n",
    "\n",
    "    positive = float(predictions[:, 0])\n",
    "    negative = float(predictions[:, 1])\n",
    "    neutral = float(predictions[:, 2])\n",
    "\n",
    "    return [positive, negative, neutral]"
   ],
   "metadata": {
    "collapsed": false
   }
  },
  {
   "cell_type": "code",
   "execution_count": 17,
   "outputs": [
    {
     "data": {
      "text/plain": "[0.04605134204030037, 0.01414080336689949, 0.9398078322410583]"
     },
     "execution_count": 17,
     "metadata": {},
     "output_type": "execute_result"
    }
   ],
   "source": [
    "finbert_predict(tweets['Preprocessed Tweet'][0], finbert_tokenizer, finbert_model) #test to see if it works"
   ],
   "metadata": {
    "collapsed": false
   }
  },
  {
   "cell_type": "code",
   "execution_count": 18,
   "outputs": [
    {
     "name": "stdout",
     "output_type": "stream",
     "text": [
      "Vreme u sekundama:\n",
      "2239.062626838684\n"
     ]
    }
   ],
   "source": [
    "import time\n",
    "start = time.time()\n",
    "\n",
    "tweets['fb pos'] = 0\n",
    "tweets['fb neg'] = 0\n",
    "tweets['fb neu'] = 0\n",
    "\n",
    "for i in range(int(tweets.index.stop)):\n",
    "\n",
    "    tweets.loc[i, 'fb pos'],\\\n",
    "    tweets.loc[i, 'fb neg'],\\\n",
    "    tweets.loc[i, 'fb neu'] = finbert_predict(tweets.loc[i, 'Preprocessed Tweet'],finbert_tokenizer, finbert_model)\n",
    "\n",
    "end = time.time()\n",
    "print('Vreme u sekundama:')\n",
    "print(end - start)# time in seconds"
   ],
   "metadata": {
    "collapsed": false
   }
  },
  {
   "cell_type": "code",
   "execution_count": 9,
   "outputs": [
    {
     "data": {
      "text/plain": "                UserId         UserName  Verified  \\\n0  1664015967280590849  TimeActionQuant     False   \n1  1664013296616259584  solrevived4real     False   \n2  1664013202567446528   AnalyseBourses     False   \n3  1664011816089927685        DisfoldAI     False   \n4  1664010574517133312     sp500bullish     False   \n5  1664008712837812225    JAMESALEX7672     False   \n6  1664008359929085953  billohbarrie199     False   \n7  1664007431821590530     sjp_research     False   \n8  1664007303769587712     WafaIrfan123     False   \n9  1664007059233288193     forexpips111     False   \n\n                         Location  Followers  \\\n0                   Nashville, TN       1158   \n1                             NaN         91   \n2  New York Paris Hong Kong Tokyo        123   \n3                        Internet      12829   \n4                             NaN         12   \n5                         Nigeria         19   \n6                    Saudi Arabia         25   \n7                             NaN         10   \n8                Gbeleko, Nigeria        203   \n9                Gbongan, Nigeria        123   \n\n                                               Tweet  \\\n0  Intraday Cycles - 05/31/2023 - Results!\\n\\n#ES...   \n1  couldn't have asked for a more perfect monthly...   \n2  .\\n\\n#Parabolic SAR &amp; STA for the 06/01 wa...   \n3  The #Nasdaq is trending up, the #Dow is trendi...   \n4  @ardizor 0xB7e6691Bb0D09C8F988fDea6D3f2a89cFbe...   \n5  LIVE streaming FREE #GOLD #XAUUSD SIGNALS\\nPle...   \n6  LIVE streaming FREE #GOLD #XAUUSD SIGNALS\\nPle...   \n7  SPX 1-week forecast from 05-23 was right (for ...   \n8  LIVE streaming FREE #GOLD #XAUUSD SIGNALS\\nPle...   \n9  LIVE streaming FREE #GOLD #XAUUSD SIGNALS\\nPle...   \n\n                        Date  Retweeted Language  Likes Count  ...  \\\n0  2023-05-31 21:08:17+00:00        NaN       en            0  ...   \n1  2023-05-31 20:57:40+00:00        NaN       en            0  ...   \n2  2023-05-31 20:57:18+00:00        NaN       en            0  ...   \n3  2023-05-31 20:51:47+00:00        NaN       en            0  ...   \n4  2023-05-31 20:46:51+00:00        NaN       en            0  ...   \n5  2023-05-31 20:39:27+00:00        NaN       en            1  ...   \n6  2023-05-31 20:38:03+00:00        NaN       en            2  ...   \n7  2023-05-31 20:34:22+00:00        NaN       en            0  ...   \n8  2023-05-31 20:33:51+00:00        NaN       en            3  ...   \n9  2023-05-31 20:32:53+00:00        NaN       en            3  ...   \n\n                                              scores  compound    pos    neg  \\\n0  {'neg': 0.0, 'neu': 1.0, 'pos': 0.0, 'compound...    0.0000  0.000  0.000   \n1  {'neg': 0.0, 'neu': 0.654, 'pos': 0.346, 'comp...    0.5719  0.346  0.000   \n2  {'neg': 0.192, 'neu': 0.728, 'pos': 0.08, 'com...   -0.5994  0.080  0.192   \n3  {'neg': 0.0, 'neu': 0.59, 'pos': 0.41, 'compou...    0.9153  0.410  0.000   \n4  {'neg': 0.0, 'neu': 1.0, 'pos': 0.0, 'compound...    0.0000  0.000  0.000   \n5  {'neg': 0.0, 'neu': 0.833, 'pos': 0.167, 'comp...    0.7003  0.167  0.000   \n6  {'neg': 0.0, 'neu': 0.833, 'pos': 0.167, 'comp...    0.7003  0.167  0.000   \n7  {'neg': 0.0, 'neu': 1.0, 'pos': 0.0, 'compound...    0.0000  0.000  0.000   \n8  {'neg': 0.0, 'neu': 0.838, 'pos': 0.162, 'comp...    0.7003  0.162  0.000   \n9  {'neg': 0.0, 'neu': 0.838, 'pos': 0.162, 'comp...    0.7003  0.162  0.000   \n\n     neu     type                                 Preprocessed Tweet  \\\n0  1.000  NEUTRAL          intraday cycl result es_f spx spi sp http   \n1  0.654      POS          ask perfect monthli close spx spi sp http   \n2  0.728      NEG  parabol sar sta put onlin sp eurusd hangseng c...   \n3  0.590      POS  nasdaq trend dow trend sp trade sideway one ri...   \n4  1.000  NEUTRAL                              xbebbdcffdeadfacfbecd   \n5  0.833      POS  live stream free gold xauusd signal pleas like...   \n6  0.833      POS  live stream free gold xauusd signal pleas like...   \n7  1.000  NEUTRAL  spx week forecast right pt last forecast right...   \n8  0.838      POS  live stream free gold xauusd signal pleas like...   \n9  0.838      POS  live stream free gold xauusd signal pleas like...   \n\n     fb pos    fb neg    fb neu  \n0  0.049880  0.018428  0.931692  \n1  0.047117  0.027944  0.924939  \n2  0.093006  0.014138  0.892855  \n3  0.058029  0.023765  0.918206  \n4  0.062647  0.020080  0.917273  \n5  0.059920  0.017577  0.922502  \n6  0.059920  0.017577  0.922502  \n7  0.064816  0.035233  0.899951  \n8  0.058091  0.018541  0.923368  \n9  0.059766  0.017372  0.922862  \n\n[10 rows x 24 columns]",
      "text/html": "<div>\n<style scoped>\n    .dataframe tbody tr th:only-of-type {\n        vertical-align: middle;\n    }\n\n    .dataframe tbody tr th {\n        vertical-align: top;\n    }\n\n    .dataframe thead th {\n        text-align: right;\n    }\n</style>\n<table border=\"1\" class=\"dataframe\">\n  <thead>\n    <tr style=\"text-align: right;\">\n      <th></th>\n      <th>UserId</th>\n      <th>UserName</th>\n      <th>Verified</th>\n      <th>Location</th>\n      <th>Followers</th>\n      <th>Tweet</th>\n      <th>Date</th>\n      <th>Retweeted</th>\n      <th>Language</th>\n      <th>Likes Count</th>\n      <th>...</th>\n      <th>scores</th>\n      <th>compound</th>\n      <th>pos</th>\n      <th>neg</th>\n      <th>neu</th>\n      <th>type</th>\n      <th>Preprocessed Tweet</th>\n      <th>fb pos</th>\n      <th>fb neg</th>\n      <th>fb neu</th>\n    </tr>\n  </thead>\n  <tbody>\n    <tr>\n      <th>0</th>\n      <td>1664015967280590849</td>\n      <td>TimeActionQuant</td>\n      <td>False</td>\n      <td>Nashville, TN</td>\n      <td>1158</td>\n      <td>Intraday Cycles - 05/31/2023 - Results!\\n\\n#ES...</td>\n      <td>2023-05-31 21:08:17+00:00</td>\n      <td>NaN</td>\n      <td>en</td>\n      <td>0</td>\n      <td>...</td>\n      <td>{'neg': 0.0, 'neu': 1.0, 'pos': 0.0, 'compound...</td>\n      <td>0.0000</td>\n      <td>0.000</td>\n      <td>0.000</td>\n      <td>1.000</td>\n      <td>NEUTRAL</td>\n      <td>intraday cycl result es_f spx spi sp http</td>\n      <td>0.049880</td>\n      <td>0.018428</td>\n      <td>0.931692</td>\n    </tr>\n    <tr>\n      <th>1</th>\n      <td>1664013296616259584</td>\n      <td>solrevived4real</td>\n      <td>False</td>\n      <td>NaN</td>\n      <td>91</td>\n      <td>couldn't have asked for a more perfect monthly...</td>\n      <td>2023-05-31 20:57:40+00:00</td>\n      <td>NaN</td>\n      <td>en</td>\n      <td>0</td>\n      <td>...</td>\n      <td>{'neg': 0.0, 'neu': 0.654, 'pos': 0.346, 'comp...</td>\n      <td>0.5719</td>\n      <td>0.346</td>\n      <td>0.000</td>\n      <td>0.654</td>\n      <td>POS</td>\n      <td>ask perfect monthli close spx spi sp http</td>\n      <td>0.047117</td>\n      <td>0.027944</td>\n      <td>0.924939</td>\n    </tr>\n    <tr>\n      <th>2</th>\n      <td>1664013202567446528</td>\n      <td>AnalyseBourses</td>\n      <td>False</td>\n      <td>New York Paris Hong Kong Tokyo</td>\n      <td>123</td>\n      <td>.\\n\\n#Parabolic SAR &amp;amp; STA for the 06/01 wa...</td>\n      <td>2023-05-31 20:57:18+00:00</td>\n      <td>NaN</td>\n      <td>en</td>\n      <td>0</td>\n      <td>...</td>\n      <td>{'neg': 0.192, 'neu': 0.728, 'pos': 0.08, 'com...</td>\n      <td>-0.5994</td>\n      <td>0.080</td>\n      <td>0.192</td>\n      <td>0.728</td>\n      <td>NEG</td>\n      <td>parabol sar sta put onlin sp eurusd hangseng c...</td>\n      <td>0.093006</td>\n      <td>0.014138</td>\n      <td>0.892855</td>\n    </tr>\n    <tr>\n      <th>3</th>\n      <td>1664011816089927685</td>\n      <td>DisfoldAI</td>\n      <td>False</td>\n      <td>Internet</td>\n      <td>12829</td>\n      <td>The #Nasdaq is trending up, the #Dow is trendi...</td>\n      <td>2023-05-31 20:51:47+00:00</td>\n      <td>NaN</td>\n      <td>en</td>\n      <td>0</td>\n      <td>...</td>\n      <td>{'neg': 0.0, 'neu': 0.59, 'pos': 0.41, 'compou...</td>\n      <td>0.9153</td>\n      <td>0.410</td>\n      <td>0.000</td>\n      <td>0.590</td>\n      <td>POS</td>\n      <td>nasdaq trend dow trend sp trade sideway one ri...</td>\n      <td>0.058029</td>\n      <td>0.023765</td>\n      <td>0.918206</td>\n    </tr>\n    <tr>\n      <th>4</th>\n      <td>1664010574517133312</td>\n      <td>sp500bullish</td>\n      <td>False</td>\n      <td>NaN</td>\n      <td>12</td>\n      <td>@ardizor 0xB7e6691Bb0D09C8F988fDea6D3f2a89cFbe...</td>\n      <td>2023-05-31 20:46:51+00:00</td>\n      <td>NaN</td>\n      <td>en</td>\n      <td>0</td>\n      <td>...</td>\n      <td>{'neg': 0.0, 'neu': 1.0, 'pos': 0.0, 'compound...</td>\n      <td>0.0000</td>\n      <td>0.000</td>\n      <td>0.000</td>\n      <td>1.000</td>\n      <td>NEUTRAL</td>\n      <td>xbebbdcffdeadfacfbecd</td>\n      <td>0.062647</td>\n      <td>0.020080</td>\n      <td>0.917273</td>\n    </tr>\n    <tr>\n      <th>5</th>\n      <td>1664008712837812225</td>\n      <td>JAMESALEX7672</td>\n      <td>False</td>\n      <td>Nigeria</td>\n      <td>19</td>\n      <td>LIVE streaming FREE #GOLD #XAUUSD SIGNALS\\nPle...</td>\n      <td>2023-05-31 20:39:27+00:00</td>\n      <td>NaN</td>\n      <td>en</td>\n      <td>1</td>\n      <td>...</td>\n      <td>{'neg': 0.0, 'neu': 0.833, 'pos': 0.167, 'comp...</td>\n      <td>0.7003</td>\n      <td>0.167</td>\n      <td>0.000</td>\n      <td>0.833</td>\n      <td>POS</td>\n      <td>live stream free gold xauusd signal pleas like...</td>\n      <td>0.059920</td>\n      <td>0.017577</td>\n      <td>0.922502</td>\n    </tr>\n    <tr>\n      <th>6</th>\n      <td>1664008359929085953</td>\n      <td>billohbarrie199</td>\n      <td>False</td>\n      <td>Saudi Arabia</td>\n      <td>25</td>\n      <td>LIVE streaming FREE #GOLD #XAUUSD SIGNALS\\nPle...</td>\n      <td>2023-05-31 20:38:03+00:00</td>\n      <td>NaN</td>\n      <td>en</td>\n      <td>2</td>\n      <td>...</td>\n      <td>{'neg': 0.0, 'neu': 0.833, 'pos': 0.167, 'comp...</td>\n      <td>0.7003</td>\n      <td>0.167</td>\n      <td>0.000</td>\n      <td>0.833</td>\n      <td>POS</td>\n      <td>live stream free gold xauusd signal pleas like...</td>\n      <td>0.059920</td>\n      <td>0.017577</td>\n      <td>0.922502</td>\n    </tr>\n    <tr>\n      <th>7</th>\n      <td>1664007431821590530</td>\n      <td>sjp_research</td>\n      <td>False</td>\n      <td>NaN</td>\n      <td>10</td>\n      <td>SPX 1-week forecast from 05-23 was right (for ...</td>\n      <td>2023-05-31 20:34:22+00:00</td>\n      <td>NaN</td>\n      <td>en</td>\n      <td>0</td>\n      <td>...</td>\n      <td>{'neg': 0.0, 'neu': 1.0, 'pos': 0.0, 'compound...</td>\n      <td>0.0000</td>\n      <td>0.000</td>\n      <td>0.000</td>\n      <td>1.000</td>\n      <td>NEUTRAL</td>\n      <td>spx week forecast right pt last forecast right...</td>\n      <td>0.064816</td>\n      <td>0.035233</td>\n      <td>0.899951</td>\n    </tr>\n    <tr>\n      <th>8</th>\n      <td>1664007303769587712</td>\n      <td>WafaIrfan123</td>\n      <td>False</td>\n      <td>Gbeleko, Nigeria</td>\n      <td>203</td>\n      <td>LIVE streaming FREE #GOLD #XAUUSD SIGNALS\\nPle...</td>\n      <td>2023-05-31 20:33:51+00:00</td>\n      <td>NaN</td>\n      <td>en</td>\n      <td>3</td>\n      <td>...</td>\n      <td>{'neg': 0.0, 'neu': 0.838, 'pos': 0.162, 'comp...</td>\n      <td>0.7003</td>\n      <td>0.162</td>\n      <td>0.000</td>\n      <td>0.838</td>\n      <td>POS</td>\n      <td>live stream free gold xauusd signal pleas like...</td>\n      <td>0.058091</td>\n      <td>0.018541</td>\n      <td>0.923368</td>\n    </tr>\n    <tr>\n      <th>9</th>\n      <td>1664007059233288193</td>\n      <td>forexpips111</td>\n      <td>False</td>\n      <td>Gbongan, Nigeria</td>\n      <td>123</td>\n      <td>LIVE streaming FREE #GOLD #XAUUSD SIGNALS\\nPle...</td>\n      <td>2023-05-31 20:32:53+00:00</td>\n      <td>NaN</td>\n      <td>en</td>\n      <td>3</td>\n      <td>...</td>\n      <td>{'neg': 0.0, 'neu': 0.838, 'pos': 0.162, 'comp...</td>\n      <td>0.7003</td>\n      <td>0.162</td>\n      <td>0.000</td>\n      <td>0.838</td>\n      <td>POS</td>\n      <td>live stream free gold xauusd signal pleas like...</td>\n      <td>0.059766</td>\n      <td>0.017372</td>\n      <td>0.922862</td>\n    </tr>\n  </tbody>\n</table>\n<p>10 rows × 24 columns</p>\n</div>"
     },
     "execution_count": 9,
     "metadata": {},
     "output_type": "execute_result"
    }
   ],
   "source": [
    "tweets.head(10)"
   ],
   "metadata": {
    "collapsed": false
   }
  },
  {
   "cell_type": "markdown",
   "source": [
    "FLAIR sentiment analysis"
   ],
   "metadata": {
    "collapsed": false
   }
  },
  {
   "cell_type": "code",
   "execution_count": 10,
   "outputs": [],
   "source": [
    "flair_model = flair.models.TextClassifier.load('en-sentiment')"
   ],
   "metadata": {
    "collapsed": false
   }
  },
  {
   "cell_type": "code",
   "execution_count": 14,
   "outputs": [],
   "source": [
    "def flair_predict(tweets, model):\n",
    "\n",
    "    tweets['flair probability'] = 0\n",
    "    tweets['flair sentiment'] = ''\n",
    "\n",
    "    for i in range(int(tweets.index.stop)):\n",
    "\n",
    "        sentence = flair.data.Sentence(str(tweets.loc[i, 'Preprocessed Tweet']))\n",
    "        model.predict(sentence)\n",
    "\n",
    "        tweets.loc[i, 'flair probability'] = sentence.labels[0].score # numerical score 0-1\n",
    "        tweets.loc[i, 'flair sentiment'] = sentence.labels[0].value # 'POSITIVE' or 'NEGATIVE'\n",
    "\n",
    "\n",
    "\n",
    "\n"
   ],
   "metadata": {
    "collapsed": false
   }
  },
  {
   "cell_type": "code",
   "execution_count": 14,
   "outputs": [],
   "source": [],
   "metadata": {
    "collapsed": false
   }
  },
  {
   "cell_type": "code",
   "execution_count": 15,
   "outputs": [
    {
     "name": "stdout",
     "output_type": "stream",
     "text": [
      "Vreme u sekundama:\n",
      "6783.110467910767\n"
     ]
    }
   ],
   "source": [
    "start = time.time()\n",
    "\n",
    "flair_predict(tweets, flair_model)\n",
    "\n",
    "end = time.time()\n",
    "print('Vreme u sekundama:')\n",
    "print(end - start)# time in seconds"
   ],
   "metadata": {
    "collapsed": false
   }
  },
  {
   "cell_type": "code",
   "execution_count": 16,
   "outputs": [
    {
     "data": {
      "text/plain": "                 UserId         UserName  Verified  \\\n0   1664015967280590849  TimeActionQuant     False   \n1   1664013296616259584  solrevived4real     False   \n2   1664013202567446528   AnalyseBourses     False   \n3   1664011816089927685        DisfoldAI     False   \n4   1664010574517133312     sp500bullish     False   \n5   1664008712837812225    JAMESALEX7672     False   \n6   1664008359929085953  billohbarrie199     False   \n7   1664007431821590530     sjp_research     False   \n8   1664007303769587712     WafaIrfan123     False   \n9   1664007059233288193     forexpips111     False   \n10  1664007042070134785  BetterTraderPro     False   \n11  1664006803288408065       PipsFor888     False   \n12  1664006167402799106        edwin_xwg     False   \n13  1664005082797469699  BetterTraderPro     False   \n14  1664005045300371460      nGiStrategy     False   \n15  1664003045141929985           CQGInc     False   \n16  1664000548083843072        ihs112358     False   \n17  1664000077856395266    MITickWatcher     False   \n18  1663999972344209408       RealVision     False   \n19  1663999276018462721  SPVotingMachine     False   \n\n                          Location  Followers  \\\n0                    Nashville, TN       1158   \n1                              NaN         91   \n2   New York Paris Hong Kong Tokyo        123   \n3                         Internet      12829   \n4                              NaN         12   \n5                          Nigeria         19   \n6                     Saudi Arabia         25   \n7                              NaN         10   \n8                 Gbeleko, Nigeria        203   \n9                 Gbongan, Nigeria        123   \n10                             NaN       8509   \n11                          Kuwait        396   \n12                          Canada       4424   \n13                             NaN       8509   \n14                      Dallas, TX        578   \n15                             USA       5659   \n16       Islas Vírgenes Británicas       5027   \n17                 California, USA       5507   \n18                    New York, NY     363147   \n19                   United States          1   \n\n                                                Tweet  \\\n0   Intraday Cycles - 05/31/2023 - Results!\\n\\n#ES...   \n1   couldn't have asked for a more perfect monthly...   \n2   .\\n\\n#Parabolic SAR &amp; STA for the 06/01 wa...   \n3   The #Nasdaq is trending up, the #Dow is trendi...   \n4   @ardizor 0xB7e6691Bb0D09C8F988fDea6D3f2a89cFbe...   \n5   LIVE streaming FREE #GOLD #XAUUSD SIGNALS\\nPle...   \n6   LIVE streaming FREE #GOLD #XAUUSD SIGNALS\\nPle...   \n7   SPX 1-week forecast from 05-23 was right (for ...   \n8   LIVE streaming FREE #GOLD #XAUUSD SIGNALS\\nPle...   \n9   LIVE streaming FREE #GOLD #XAUUSD SIGNALS\\nPle...   \n10  #USD API Weekly Crude Oil Stock ➜ Actual 5.202...   \n11  LIVE streaming FREE #GOLD #XAUUSD SIGNALS\\nPle...   \n12  Another dipped day in #stock and #crypto antic...   \n13  #USD API Weekly Crude Oil Stock ➜ in 5 minutes...   \n14  $SPX it’s 5x💯 SP 500 Index\\n\\nUptrend prevails...   \n15  Today’s, 10 top/bottom percent net change perf...   \n16                               Long #SP500 #ES #SPY   \n17  Top #moneyflow for #sp500 today\\n$NVDA $AMZN $...   \n18  📈Market Conditions Today📉\\n\\n#DJI🔻 0.40% 💲32,9...   \n19  #SP500 is DOWN on May 31, 2023.              \\...   \n\n                         Date  Retweeted Language  Likes Count  ...    pos  \\\n0   2023-05-31 21:08:17+00:00        NaN       en            0  ...  0.000   \n1   2023-05-31 20:57:40+00:00        NaN       en            0  ...  0.346   \n2   2023-05-31 20:57:18+00:00        NaN       en            0  ...  0.080   \n3   2023-05-31 20:51:47+00:00        NaN       en            0  ...  0.410   \n4   2023-05-31 20:46:51+00:00        NaN       en            0  ...  0.000   \n5   2023-05-31 20:39:27+00:00        NaN       en            1  ...  0.167   \n6   2023-05-31 20:38:03+00:00        NaN       en            2  ...  0.167   \n7   2023-05-31 20:34:22+00:00        NaN       en            0  ...  0.000   \n8   2023-05-31 20:33:51+00:00        NaN       en            3  ...  0.162   \n9   2023-05-31 20:32:53+00:00        NaN       en            3  ...  0.162   \n10  2023-05-31 20:32:49+00:00        NaN       en            0  ...  0.000   \n11  2023-05-31 20:31:52+00:00        NaN       en            3  ...  0.162   \n12  2023-05-31 20:29:20+00:00        NaN       en            0  ...  0.027   \n13  2023-05-31 20:25:02+00:00        NaN       en            0  ...  0.000   \n14  2023-05-31 20:24:53+00:00        NaN       en            0  ...  0.133   \n15  2023-05-31 20:16:56+00:00        NaN       en            0  ...  0.091   \n16  2023-05-31 20:07:00+00:00        NaN       en           27  ...  0.625   \n17  2023-05-31 20:05:08+00:00        NaN       en            0  ...  0.087   \n18  2023-05-31 20:04:43+00:00        NaN       en            5  ...  0.000   \n19  2023-05-31 20:01:57+00:00        NaN       en            0  ...  0.000   \n\n      neg    neu     type                                 Preprocessed Tweet  \\\n0   0.000  1.000  NEUTRAL          intraday cycl result es_f spx spi sp http   \n1   0.000  0.654      POS          ask perfect monthli close spx spi sp http   \n2   0.192  0.728      NEG  parabol sar sta put onlin sp eurusd hangseng c...   \n3   0.000  0.590      POS  nasdaq trend dow trend sp trade sideway one ri...   \n4   0.000  1.000  NEUTRAL                              xbebbdcffdeadfacfbecd   \n5   0.000  0.833      POS  live stream free gold xauusd signal pleas like...   \n6   0.000  0.833      POS  live stream free gold xauusd signal pleas like...   \n7   0.000  1.000  NEUTRAL  spx week forecast right pt last forecast right...   \n8   0.000  0.838      POS  live stream free gold xauusd signal pleas like...   \n9   0.000  0.838      POS  live stream free gold xauusd signal pleas like...   \n10  0.239  0.761      NEG  usd api weekli crude oil stock ➜ actual vs exp...   \n11  0.000  0.838      POS  live stream free gold xauusd signal pleas like...   \n12  0.062  0.911      NEG  anoth dip day stock crypto anticip ongo debt c...   \n13  0.171  0.829      NEG  usd api weekli crude oil stock ➜ minut beforen...   \n14  0.096  0.771      POS  spx ’ x 💯 sp index uptrend prevail week high 🍎...   \n15  0.000  0.909      POS  today ’ top bottom percent net chang perform s...   \n16  0.000  0.375      POS                                     long sp es spi   \n17  0.240  0.673      NEG  top moneyflow sp today nvda amzn msft aapl azo...   \n18  0.000  1.000  NEUTRAL  📈 market condit today 📉 dji 🔻 💲 sp 🔻 💲 nasdaq ...   \n19  0.000  1.000  NEUTRAL                                  sp may june sp go   \n\n      fb pos    fb neg    fb neu  flair probability flair sentiment  \n0   0.049880  0.018428  0.931692           0.823521        POSITIVE  \n1   0.047117  0.027944  0.924939           0.587212        NEGATIVE  \n2   0.093006  0.014138  0.892855           0.906969        NEGATIVE  \n3   0.058029  0.023765  0.918206           0.886936        NEGATIVE  \n4   0.062647  0.020080  0.917273           0.728623        NEGATIVE  \n5   0.059920  0.017577  0.922502           0.769223        NEGATIVE  \n6   0.059920  0.017577  0.922502           0.769223        NEGATIVE  \n7   0.064816  0.035233  0.899951           0.900904        NEGATIVE  \n8   0.058091  0.018541  0.923368           0.645486        NEGATIVE  \n9   0.059766  0.017372  0.922862           0.537783        NEGATIVE  \n10  0.090503  0.684751  0.224746           0.999963        NEGATIVE  \n11  0.058091  0.018541  0.923368           0.645486        NEGATIVE  \n12  0.110075  0.036219  0.853706           0.906128        NEGATIVE  \n13  0.126449  0.036009  0.837541           0.983386        NEGATIVE  \n14  0.162263  0.045023  0.792714           0.565991        POSITIVE  \n15  0.095741  0.015586  0.888674           0.942493        POSITIVE  \n16  0.034234  0.033168  0.932599           0.996102        NEGATIVE  \n17  0.073398  0.011702  0.914899           0.986029        POSITIVE  \n18  0.087681  0.025771  0.886548           0.705944        POSITIVE  \n19  0.061372  0.033917  0.904711           0.761509        NEGATIVE  \n\n[20 rows x 26 columns]",
      "text/html": "<div>\n<style scoped>\n    .dataframe tbody tr th:only-of-type {\n        vertical-align: middle;\n    }\n\n    .dataframe tbody tr th {\n        vertical-align: top;\n    }\n\n    .dataframe thead th {\n        text-align: right;\n    }\n</style>\n<table border=\"1\" class=\"dataframe\">\n  <thead>\n    <tr style=\"text-align: right;\">\n      <th></th>\n      <th>UserId</th>\n      <th>UserName</th>\n      <th>Verified</th>\n      <th>Location</th>\n      <th>Followers</th>\n      <th>Tweet</th>\n      <th>Date</th>\n      <th>Retweeted</th>\n      <th>Language</th>\n      <th>Likes Count</th>\n      <th>...</th>\n      <th>pos</th>\n      <th>neg</th>\n      <th>neu</th>\n      <th>type</th>\n      <th>Preprocessed Tweet</th>\n      <th>fb pos</th>\n      <th>fb neg</th>\n      <th>fb neu</th>\n      <th>flair probability</th>\n      <th>flair sentiment</th>\n    </tr>\n  </thead>\n  <tbody>\n    <tr>\n      <th>0</th>\n      <td>1664015967280590849</td>\n      <td>TimeActionQuant</td>\n      <td>False</td>\n      <td>Nashville, TN</td>\n      <td>1158</td>\n      <td>Intraday Cycles - 05/31/2023 - Results!\\n\\n#ES...</td>\n      <td>2023-05-31 21:08:17+00:00</td>\n      <td>NaN</td>\n      <td>en</td>\n      <td>0</td>\n      <td>...</td>\n      <td>0.000</td>\n      <td>0.000</td>\n      <td>1.000</td>\n      <td>NEUTRAL</td>\n      <td>intraday cycl result es_f spx spi sp http</td>\n      <td>0.049880</td>\n      <td>0.018428</td>\n      <td>0.931692</td>\n      <td>0.823521</td>\n      <td>POSITIVE</td>\n    </tr>\n    <tr>\n      <th>1</th>\n      <td>1664013296616259584</td>\n      <td>solrevived4real</td>\n      <td>False</td>\n      <td>NaN</td>\n      <td>91</td>\n      <td>couldn't have asked for a more perfect monthly...</td>\n      <td>2023-05-31 20:57:40+00:00</td>\n      <td>NaN</td>\n      <td>en</td>\n      <td>0</td>\n      <td>...</td>\n      <td>0.346</td>\n      <td>0.000</td>\n      <td>0.654</td>\n      <td>POS</td>\n      <td>ask perfect monthli close spx spi sp http</td>\n      <td>0.047117</td>\n      <td>0.027944</td>\n      <td>0.924939</td>\n      <td>0.587212</td>\n      <td>NEGATIVE</td>\n    </tr>\n    <tr>\n      <th>2</th>\n      <td>1664013202567446528</td>\n      <td>AnalyseBourses</td>\n      <td>False</td>\n      <td>New York Paris Hong Kong Tokyo</td>\n      <td>123</td>\n      <td>.\\n\\n#Parabolic SAR &amp;amp; STA for the 06/01 wa...</td>\n      <td>2023-05-31 20:57:18+00:00</td>\n      <td>NaN</td>\n      <td>en</td>\n      <td>0</td>\n      <td>...</td>\n      <td>0.080</td>\n      <td>0.192</td>\n      <td>0.728</td>\n      <td>NEG</td>\n      <td>parabol sar sta put onlin sp eurusd hangseng c...</td>\n      <td>0.093006</td>\n      <td>0.014138</td>\n      <td>0.892855</td>\n      <td>0.906969</td>\n      <td>NEGATIVE</td>\n    </tr>\n    <tr>\n      <th>3</th>\n      <td>1664011816089927685</td>\n      <td>DisfoldAI</td>\n      <td>False</td>\n      <td>Internet</td>\n      <td>12829</td>\n      <td>The #Nasdaq is trending up, the #Dow is trendi...</td>\n      <td>2023-05-31 20:51:47+00:00</td>\n      <td>NaN</td>\n      <td>en</td>\n      <td>0</td>\n      <td>...</td>\n      <td>0.410</td>\n      <td>0.000</td>\n      <td>0.590</td>\n      <td>POS</td>\n      <td>nasdaq trend dow trend sp trade sideway one ri...</td>\n      <td>0.058029</td>\n      <td>0.023765</td>\n      <td>0.918206</td>\n      <td>0.886936</td>\n      <td>NEGATIVE</td>\n    </tr>\n    <tr>\n      <th>4</th>\n      <td>1664010574517133312</td>\n      <td>sp500bullish</td>\n      <td>False</td>\n      <td>NaN</td>\n      <td>12</td>\n      <td>@ardizor 0xB7e6691Bb0D09C8F988fDea6D3f2a89cFbe...</td>\n      <td>2023-05-31 20:46:51+00:00</td>\n      <td>NaN</td>\n      <td>en</td>\n      <td>0</td>\n      <td>...</td>\n      <td>0.000</td>\n      <td>0.000</td>\n      <td>1.000</td>\n      <td>NEUTRAL</td>\n      <td>xbebbdcffdeadfacfbecd</td>\n      <td>0.062647</td>\n      <td>0.020080</td>\n      <td>0.917273</td>\n      <td>0.728623</td>\n      <td>NEGATIVE</td>\n    </tr>\n    <tr>\n      <th>5</th>\n      <td>1664008712837812225</td>\n      <td>JAMESALEX7672</td>\n      <td>False</td>\n      <td>Nigeria</td>\n      <td>19</td>\n      <td>LIVE streaming FREE #GOLD #XAUUSD SIGNALS\\nPle...</td>\n      <td>2023-05-31 20:39:27+00:00</td>\n      <td>NaN</td>\n      <td>en</td>\n      <td>1</td>\n      <td>...</td>\n      <td>0.167</td>\n      <td>0.000</td>\n      <td>0.833</td>\n      <td>POS</td>\n      <td>live stream free gold xauusd signal pleas like...</td>\n      <td>0.059920</td>\n      <td>0.017577</td>\n      <td>0.922502</td>\n      <td>0.769223</td>\n      <td>NEGATIVE</td>\n    </tr>\n    <tr>\n      <th>6</th>\n      <td>1664008359929085953</td>\n      <td>billohbarrie199</td>\n      <td>False</td>\n      <td>Saudi Arabia</td>\n      <td>25</td>\n      <td>LIVE streaming FREE #GOLD #XAUUSD SIGNALS\\nPle...</td>\n      <td>2023-05-31 20:38:03+00:00</td>\n      <td>NaN</td>\n      <td>en</td>\n      <td>2</td>\n      <td>...</td>\n      <td>0.167</td>\n      <td>0.000</td>\n      <td>0.833</td>\n      <td>POS</td>\n      <td>live stream free gold xauusd signal pleas like...</td>\n      <td>0.059920</td>\n      <td>0.017577</td>\n      <td>0.922502</td>\n      <td>0.769223</td>\n      <td>NEGATIVE</td>\n    </tr>\n    <tr>\n      <th>7</th>\n      <td>1664007431821590530</td>\n      <td>sjp_research</td>\n      <td>False</td>\n      <td>NaN</td>\n      <td>10</td>\n      <td>SPX 1-week forecast from 05-23 was right (for ...</td>\n      <td>2023-05-31 20:34:22+00:00</td>\n      <td>NaN</td>\n      <td>en</td>\n      <td>0</td>\n      <td>...</td>\n      <td>0.000</td>\n      <td>0.000</td>\n      <td>1.000</td>\n      <td>NEUTRAL</td>\n      <td>spx week forecast right pt last forecast right...</td>\n      <td>0.064816</td>\n      <td>0.035233</td>\n      <td>0.899951</td>\n      <td>0.900904</td>\n      <td>NEGATIVE</td>\n    </tr>\n    <tr>\n      <th>8</th>\n      <td>1664007303769587712</td>\n      <td>WafaIrfan123</td>\n      <td>False</td>\n      <td>Gbeleko, Nigeria</td>\n      <td>203</td>\n      <td>LIVE streaming FREE #GOLD #XAUUSD SIGNALS\\nPle...</td>\n      <td>2023-05-31 20:33:51+00:00</td>\n      <td>NaN</td>\n      <td>en</td>\n      <td>3</td>\n      <td>...</td>\n      <td>0.162</td>\n      <td>0.000</td>\n      <td>0.838</td>\n      <td>POS</td>\n      <td>live stream free gold xauusd signal pleas like...</td>\n      <td>0.058091</td>\n      <td>0.018541</td>\n      <td>0.923368</td>\n      <td>0.645486</td>\n      <td>NEGATIVE</td>\n    </tr>\n    <tr>\n      <th>9</th>\n      <td>1664007059233288193</td>\n      <td>forexpips111</td>\n      <td>False</td>\n      <td>Gbongan, Nigeria</td>\n      <td>123</td>\n      <td>LIVE streaming FREE #GOLD #XAUUSD SIGNALS\\nPle...</td>\n      <td>2023-05-31 20:32:53+00:00</td>\n      <td>NaN</td>\n      <td>en</td>\n      <td>3</td>\n      <td>...</td>\n      <td>0.162</td>\n      <td>0.000</td>\n      <td>0.838</td>\n      <td>POS</td>\n      <td>live stream free gold xauusd signal pleas like...</td>\n      <td>0.059766</td>\n      <td>0.017372</td>\n      <td>0.922862</td>\n      <td>0.537783</td>\n      <td>NEGATIVE</td>\n    </tr>\n    <tr>\n      <th>10</th>\n      <td>1664007042070134785</td>\n      <td>BetterTraderPro</td>\n      <td>False</td>\n      <td>NaN</td>\n      <td>8509</td>\n      <td>#USD API Weekly Crude Oil Stock ➜ Actual 5.202...</td>\n      <td>2023-05-31 20:32:49+00:00</td>\n      <td>NaN</td>\n      <td>en</td>\n      <td>0</td>\n      <td>...</td>\n      <td>0.000</td>\n      <td>0.239</td>\n      <td>0.761</td>\n      <td>NEG</td>\n      <td>usd api weekli crude oil stock ➜ actual vs exp...</td>\n      <td>0.090503</td>\n      <td>0.684751</td>\n      <td>0.224746</td>\n      <td>0.999963</td>\n      <td>NEGATIVE</td>\n    </tr>\n    <tr>\n      <th>11</th>\n      <td>1664006803288408065</td>\n      <td>PipsFor888</td>\n      <td>False</td>\n      <td>Kuwait</td>\n      <td>396</td>\n      <td>LIVE streaming FREE #GOLD #XAUUSD SIGNALS\\nPle...</td>\n      <td>2023-05-31 20:31:52+00:00</td>\n      <td>NaN</td>\n      <td>en</td>\n      <td>3</td>\n      <td>...</td>\n      <td>0.162</td>\n      <td>0.000</td>\n      <td>0.838</td>\n      <td>POS</td>\n      <td>live stream free gold xauusd signal pleas like...</td>\n      <td>0.058091</td>\n      <td>0.018541</td>\n      <td>0.923368</td>\n      <td>0.645486</td>\n      <td>NEGATIVE</td>\n    </tr>\n    <tr>\n      <th>12</th>\n      <td>1664006167402799106</td>\n      <td>edwin_xwg</td>\n      <td>False</td>\n      <td>Canada</td>\n      <td>4424</td>\n      <td>Another dipped day in #stock and #crypto antic...</td>\n      <td>2023-05-31 20:29:20+00:00</td>\n      <td>NaN</td>\n      <td>en</td>\n      <td>0</td>\n      <td>...</td>\n      <td>0.027</td>\n      <td>0.062</td>\n      <td>0.911</td>\n      <td>NEG</td>\n      <td>anoth dip day stock crypto anticip ongo debt c...</td>\n      <td>0.110075</td>\n      <td>0.036219</td>\n      <td>0.853706</td>\n      <td>0.906128</td>\n      <td>NEGATIVE</td>\n    </tr>\n    <tr>\n      <th>13</th>\n      <td>1664005082797469699</td>\n      <td>BetterTraderPro</td>\n      <td>False</td>\n      <td>NaN</td>\n      <td>8509</td>\n      <td>#USD API Weekly Crude Oil Stock ➜ in 5 minutes...</td>\n      <td>2023-05-31 20:25:02+00:00</td>\n      <td>NaN</td>\n      <td>en</td>\n      <td>0</td>\n      <td>...</td>\n      <td>0.000</td>\n      <td>0.171</td>\n      <td>0.829</td>\n      <td>NEG</td>\n      <td>usd api weekli crude oil stock ➜ minut beforen...</td>\n      <td>0.126449</td>\n      <td>0.036009</td>\n      <td>0.837541</td>\n      <td>0.983386</td>\n      <td>NEGATIVE</td>\n    </tr>\n    <tr>\n      <th>14</th>\n      <td>1664005045300371460</td>\n      <td>nGiStrategy</td>\n      <td>False</td>\n      <td>Dallas, TX</td>\n      <td>578</td>\n      <td>$SPX it’s 5x💯 SP 500 Index\\n\\nUptrend prevails...</td>\n      <td>2023-05-31 20:24:53+00:00</td>\n      <td>NaN</td>\n      <td>en</td>\n      <td>0</td>\n      <td>...</td>\n      <td>0.133</td>\n      <td>0.096</td>\n      <td>0.771</td>\n      <td>POS</td>\n      <td>spx ’ x 💯 sp index uptrend prevail week high 🍎...</td>\n      <td>0.162263</td>\n      <td>0.045023</td>\n      <td>0.792714</td>\n      <td>0.565991</td>\n      <td>POSITIVE</td>\n    </tr>\n    <tr>\n      <th>15</th>\n      <td>1664003045141929985</td>\n      <td>CQGInc</td>\n      <td>False</td>\n      <td>USA</td>\n      <td>5659</td>\n      <td>Today’s, 10 top/bottom percent net change perf...</td>\n      <td>2023-05-31 20:16:56+00:00</td>\n      <td>NaN</td>\n      <td>en</td>\n      <td>0</td>\n      <td>...</td>\n      <td>0.091</td>\n      <td>0.000</td>\n      <td>0.909</td>\n      <td>POS</td>\n      <td>today ’ top bottom percent net chang perform s...</td>\n      <td>0.095741</td>\n      <td>0.015586</td>\n      <td>0.888674</td>\n      <td>0.942493</td>\n      <td>POSITIVE</td>\n    </tr>\n    <tr>\n      <th>16</th>\n      <td>1664000548083843072</td>\n      <td>ihs112358</td>\n      <td>False</td>\n      <td>Islas Vírgenes Británicas</td>\n      <td>5027</td>\n      <td>Long #SP500 #ES #SPY</td>\n      <td>2023-05-31 20:07:00+00:00</td>\n      <td>NaN</td>\n      <td>en</td>\n      <td>27</td>\n      <td>...</td>\n      <td>0.625</td>\n      <td>0.000</td>\n      <td>0.375</td>\n      <td>POS</td>\n      <td>long sp es spi</td>\n      <td>0.034234</td>\n      <td>0.033168</td>\n      <td>0.932599</td>\n      <td>0.996102</td>\n      <td>NEGATIVE</td>\n    </tr>\n    <tr>\n      <th>17</th>\n      <td>1664000077856395266</td>\n      <td>MITickWatcher</td>\n      <td>False</td>\n      <td>California, USA</td>\n      <td>5507</td>\n      <td>Top #moneyflow for #sp500 today\\n$NVDA $AMZN $...</td>\n      <td>2023-05-31 20:05:08+00:00</td>\n      <td>NaN</td>\n      <td>en</td>\n      <td>0</td>\n      <td>...</td>\n      <td>0.087</td>\n      <td>0.240</td>\n      <td>0.673</td>\n      <td>NEG</td>\n      <td>top moneyflow sp today nvda amzn msft aapl azo...</td>\n      <td>0.073398</td>\n      <td>0.011702</td>\n      <td>0.914899</td>\n      <td>0.986029</td>\n      <td>POSITIVE</td>\n    </tr>\n    <tr>\n      <th>18</th>\n      <td>1663999972344209408</td>\n      <td>RealVision</td>\n      <td>False</td>\n      <td>New York, NY</td>\n      <td>363147</td>\n      <td>📈Market Conditions Today📉\\n\\n#DJI🔻 0.40% 💲32,9...</td>\n      <td>2023-05-31 20:04:43+00:00</td>\n      <td>NaN</td>\n      <td>en</td>\n      <td>5</td>\n      <td>...</td>\n      <td>0.000</td>\n      <td>0.000</td>\n      <td>1.000</td>\n      <td>NEUTRAL</td>\n      <td>📈 market condit today 📉 dji 🔻 💲 sp 🔻 💲 nasdaq ...</td>\n      <td>0.087681</td>\n      <td>0.025771</td>\n      <td>0.886548</td>\n      <td>0.705944</td>\n      <td>POSITIVE</td>\n    </tr>\n    <tr>\n      <th>19</th>\n      <td>1663999276018462721</td>\n      <td>SPVotingMachine</td>\n      <td>False</td>\n      <td>United States</td>\n      <td>1</td>\n      <td>#SP500 is DOWN on May 31, 2023.              \\...</td>\n      <td>2023-05-31 20:01:57+00:00</td>\n      <td>NaN</td>\n      <td>en</td>\n      <td>0</td>\n      <td>...</td>\n      <td>0.000</td>\n      <td>0.000</td>\n      <td>1.000</td>\n      <td>NEUTRAL</td>\n      <td>sp may june sp go</td>\n      <td>0.061372</td>\n      <td>0.033917</td>\n      <td>0.904711</td>\n      <td>0.761509</td>\n      <td>NEGATIVE</td>\n    </tr>\n  </tbody>\n</table>\n<p>20 rows × 26 columns</p>\n</div>"
     },
     "execution_count": 16,
     "metadata": {},
     "output_type": "execute_result"
    }
   ],
   "source": [
    "tweets.head(20)"
   ],
   "metadata": {
    "collapsed": false
   }
  },
  {
   "cell_type": "code",
   "execution_count": 17,
   "outputs": [],
   "source": [
    "#saving data to csv\n",
    "tweets.to_csv('data/all_tweets_processed.csv', sep=',', index=False)\n"
   ],
   "metadata": {
    "collapsed": false
   }
  }
 ],
 "metadata": {
  "kernelspec": {
   "display_name": "Python 3",
   "language": "python",
   "name": "python3"
  },
  "language_info": {
   "codemirror_mode": {
    "name": "ipython",
    "version": 2
   },
   "file_extension": ".py",
   "mimetype": "text/x-python",
   "name": "python",
   "nbconvert_exporter": "python",
   "pygments_lexer": "ipython2",
   "version": "2.7.6"
  }
 },
 "nbformat": 4,
 "nbformat_minor": 0
}
